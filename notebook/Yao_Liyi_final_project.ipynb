{
  "cells": [
    {
      "cell_type": "code",
      "execution_count": 25,
      "metadata": {
        "colab": {
          "base_uri": "https://localhost:8080/"
        },
        "id": "623S8aSjhtfL",
        "outputId": "9cf6cd03-9c96-4c6b-8692-9e56d2459095"
      },
      "outputs": [
        {
          "name": "stdout",
          "output_type": "stream",
          "text": [
            "Drive already mounted at /content/drive; to attempt to forcibly remount, call drive.mount(\"/content/drive\", force_remount=True).\n"
          ]
        }
      ],
      "source": [
        "from google.colab import drive\n",
        "drive.mount('/content/drive')"
      ]
    },
    {
      "cell_type": "code",
      "execution_count": 1,
      "metadata": {
        "id": "Ng-JxPMkiFlO"
      },
      "outputs": [],
      "source": [
        "import os\n",
        "import random\n",
        "import numpy as np\n",
        "import pandas as pd\n",
        "from tqdm import tqdm\n",
        "from pathlib import Path\n",
        "from PIL import Image\n",
        "\n",
        "import torch\n",
        "from torch import nn\n",
        "from torch.nn import functional as F\n",
        "from torch.utils.data.dataset import Dataset\n",
        "from torch.optim import Adam\n",
        "from torchvision import datasets, transforms\n",
        "from torchvision.models import vgg16, efficientnet_b0\n",
        "from torch.utils.data import DataLoader\n",
        "from sklearn.metrics import precision_score, recall_score, f1_score, accuracy_score\n",
        "from matplotlib import pyplot as plt"
      ]
    },
    {
      "cell_type": "code",
      "execution_count": 2,
      "metadata": {
        "id": "y7X033rykT4-"
      },
      "outputs": [],
      "source": [
        "BATCH_SIZE = 64\n",
        "EPOCH = 50\n",
        "LR = 0.001  # learning rate"
      ]
    },
    {
      "cell_type": "code",
      "execution_count": 3,
      "metadata": {
        "id": "VkPPgGeAkXEq"
      },
      "outputs": [
        {
          "data": {
            "text/html": [
              "<div>\n",
              "<style scoped>\n",
              "    .dataframe tbody tr th:only-of-type {\n",
              "        vertical-align: middle;\n",
              "    }\n",
              "\n",
              "    .dataframe tbody tr th {\n",
              "        vertical-align: top;\n",
              "    }\n",
              "\n",
              "    .dataframe thead th {\n",
              "        text-align: right;\n",
              "    }\n",
              "</style>\n",
              "<table border=\"1\" class=\"dataframe\">\n",
              "  <thead>\n",
              "    <tr style=\"text-align: right;\">\n",
              "      <th></th>\n",
              "      <th>Folder Name</th>\n",
              "      <th>Class</th>\n",
              "    </tr>\n",
              "  </thead>\n",
              "  <tbody>\n",
              "    <tr>\n",
              "      <th>0</th>\n",
              "      <td>005.Crested_Auklet</td>\n",
              "      <td>0</td>\n",
              "    </tr>\n",
              "    <tr>\n",
              "      <th>1</th>\n",
              "      <td>013.Bobolink</td>\n",
              "      <td>1</td>\n",
              "    </tr>\n",
              "    <tr>\n",
              "      <th>2</th>\n",
              "      <td>015.Lazuli_Bunting</td>\n",
              "      <td>2</td>\n",
              "    </tr>\n",
              "    <tr>\n",
              "      <th>3</th>\n",
              "      <td>023.Brandt_Cormorant</td>\n",
              "      <td>3</td>\n",
              "    </tr>\n",
              "    <tr>\n",
              "      <th>4</th>\n",
              "      <td>040.Olive_sided_Flycatcher</td>\n",
              "      <td>4</td>\n",
              "    </tr>\n",
              "    <tr>\n",
              "      <th>5</th>\n",
              "      <td>041.Scissor_tailed_Flycatcher</td>\n",
              "      <td>5</td>\n",
              "    </tr>\n",
              "    <tr>\n",
              "      <th>6</th>\n",
              "      <td>067.Anna_Hummingbird</td>\n",
              "      <td>6</td>\n",
              "    </tr>\n",
              "    <tr>\n",
              "      <th>7</th>\n",
              "      <td>072.Pomarine_Jaeger</td>\n",
              "      <td>7</td>\n",
              "    </tr>\n",
              "    <tr>\n",
              "      <th>8</th>\n",
              "      <td>076.Dark_eyed_Junco</td>\n",
              "      <td>8</td>\n",
              "    </tr>\n",
              "    <tr>\n",
              "      <th>9</th>\n",
              "      <td>081.Pied_Kingfisher</td>\n",
              "      <td>9</td>\n",
              "    </tr>\n",
              "    <tr>\n",
              "      <th>10</th>\n",
              "      <td>082.Ringed_Kingfisher</td>\n",
              "      <td>10</td>\n",
              "    </tr>\n",
              "    <tr>\n",
              "      <th>11</th>\n",
              "      <td>086.Pacific_Loon</td>\n",
              "      <td>11</td>\n",
              "    </tr>\n",
              "    <tr>\n",
              "      <th>12</th>\n",
              "      <td>099.Ovenbird</td>\n",
              "      <td>12</td>\n",
              "    </tr>\n",
              "    <tr>\n",
              "      <th>13</th>\n",
              "      <td>104.American_Pipit</td>\n",
              "      <td>13</td>\n",
              "    </tr>\n",
              "    <tr>\n",
              "      <th>14</th>\n",
              "      <td>127.Savannah_Sparrow</td>\n",
              "      <td>14</td>\n",
              "    </tr>\n",
              "    <tr>\n",
              "      <th>15</th>\n",
              "      <td>135.Bank_Swallow</td>\n",
              "      <td>15</td>\n",
              "    </tr>\n",
              "    <tr>\n",
              "      <th>16</th>\n",
              "      <td>141.Artic_Tern</td>\n",
              "      <td>16</td>\n",
              "    </tr>\n",
              "    <tr>\n",
              "      <th>17</th>\n",
              "      <td>149.Brown_Thrasher</td>\n",
              "      <td>17</td>\n",
              "    </tr>\n",
              "    <tr>\n",
              "      <th>18</th>\n",
              "      <td>156.White_eyed_Vireo</td>\n",
              "      <td>18</td>\n",
              "    </tr>\n",
              "    <tr>\n",
              "      <th>19</th>\n",
              "      <td>168.Kentucky_Warbler</td>\n",
              "      <td>19</td>\n",
              "    </tr>\n",
              "  </tbody>\n",
              "</table>\n",
              "</div>"
            ],
            "text/plain": [
              "                     Folder Name   Class\n",
              "0              005.Crested_Auklet      0\n",
              "1                    013.Bobolink      1\n",
              "2              015.Lazuli_Bunting      2\n",
              "3            023.Brandt_Cormorant      3\n",
              "4      040.Olive_sided_Flycatcher      4\n",
              "5   041.Scissor_tailed_Flycatcher      5\n",
              "6            067.Anna_Hummingbird      6\n",
              "7             072.Pomarine_Jaeger      7\n",
              "8             076.Dark_eyed_Junco      8\n",
              "9             081.Pied_Kingfisher      9\n",
              "10          082.Ringed_Kingfisher     10\n",
              "11               086.Pacific_Loon     11\n",
              "12                   099.Ovenbird     12\n",
              "13             104.American_Pipit     13\n",
              "14           127.Savannah_Sparrow     14\n",
              "15               135.Bank_Swallow     15\n",
              "16                 141.Artic_Tern     16\n",
              "17             149.Brown_Thrasher     17\n",
              "18           156.White_eyed_Vireo     18\n",
              "19           168.Kentucky_Warbler     19"
            ]
          },
          "execution_count": 3,
          "metadata": {},
          "output_type": "execute_result"
        }
      ],
      "source": [
        "data_root = Path('/content/drive/My Drive//final project/data')\n",
        "# data_root = Path('../data')  # if use local computer\n",
        "classes_idx_path = data_root.joinpath('Classes.xlsx')\n",
        "class_frame = pd.read_excel(classes_idx_path)\n",
        "class_frame"
      ]
    },
    {
      "cell_type": "code",
      "execution_count": 4,
      "metadata": {},
      "outputs": [],
      "source": [
        "train_list = []\n",
        "train_labels = []\n",
        "valid_list = []\n",
        "valid_labels = []\n",
        "test_list = []\n",
        "test_labels = []\n",
        "image_root = data_root.joinpath('images')\n",
        "for class_name in os.listdir(image_root):\n",
        "    folder_path = image_root.joinpath(class_name)\n",
        "    if os.path.isdir(folder_path):\n",
        "        file_names = os.listdir(folder_path)\n",
        "        num_images = len(file_names)\n",
        "        num_train = int(np.ceil(0.7 * num_images))\n",
        "        num_valid = int(np.ceil(0.15 * num_images))\n",
        "        num_test = num_images - num_train - num_valid\n",
        "        \n",
        "        train_samples = random.sample(file_names, num_train)\n",
        "        valid_samples = random.sample(list(set(file_names) - set(train_samples)), num_valid)\n",
        "        test_samples = list(set(file_names) - set(train_samples) - set(valid_samples))\n",
        "        \n",
        "        train_list.extend([os.path.join(folder_path, file) for file in train_samples])\n",
        "        valid_list.extend([os.path.join(folder_path, file) for file in valid_samples])\n",
        "        test_list.extend([os.path.join(folder_path, file) for file in test_samples])\n",
        "\n",
        "        class_label = class_frame.loc[class_frame.iloc[:, 0] == class_name, 'Class'].values[0]\n",
        "        train_labels.extend([class_label] * num_train)\n",
        "        valid_labels.extend([class_label] * num_valid)\n",
        "        test_labels.extend([class_label] * num_test)"
      ]
    },
    {
      "cell_type": "code",
      "execution_count": 5,
      "metadata": {
        "id": "jQTMvnC8k1KQ"
      },
      "outputs": [],
      "source": [
        "# image augmentation with transform\n",
        "train_transform = transforms.Compose([\n",
        "    transforms.RandomResizedCrop(size=224),\n",
        "    transforms.RandomHorizontalFlip(),\n",
        "    transforms.ColorJitter(brightness=0.4, contrast=0.4, saturation=0.4, hue=0.1),\n",
        "    transforms.RandomRotation(degrees=30),\n",
        "    transforms.RandomAffine(degrees=0, translate=(0.1, 0.1)),\n",
        "    transforms.RandomPerspective(distortion_scale=0.3, p=0.5),\n",
        "    transforms.ToTensor(),\n",
        "    transforms.Normalize(mean=[0.485, 0.456, 0.406], std=[0.229, 0.224, 0.225])\n",
        "])\n",
        "\n",
        "valid_transform = transforms.Compose([\n",
        "    transforms.Resize(size=224),\n",
        "    transforms.ToTensor(),\n",
        "    transforms.Normalize(mean=[0.485, 0.456, 0.406], std=[0.229, 0.224, 0.225])\n",
        "])"
      ]
    },
    {
      "cell_type": "code",
      "execution_count": 6,
      "metadata": {},
      "outputs": [],
      "source": [
        "class BirdDataset(Dataset):\n",
        "    def __init__(self, image_list, label_list, transform):\n",
        "        super().__init__()\n",
        "        self.data = []\n",
        "        for file in image_list:\n",
        "            self.data.append(Image.open(file))\n",
        "        self.labels = label_list\n",
        "        self.transform = transform\n",
        "\n",
        "    def __getitem__(self, index):\n",
        "        X = self.data[index]\n",
        "        X = self.transform(X)\n",
        "        y = self.labels[index]\n",
        "        return X, y\n",
        "    \n",
        "    def __len__(self):\n",
        "        return len(self.data)"
      ]
    },
    {
      "cell_type": "code",
      "execution_count": 7,
      "metadata": {},
      "outputs": [
        {
          "name": "stdout",
          "output_type": "stream",
          "text": [
            "Train : Valid: Test = 827 : 178 : 171\n"
          ]
        }
      ],
      "source": [
        "'''\n",
        "image_root = data_root.joinpath('images')\n",
        "dataset = datasets.ImageFolder(\n",
        "    root=image_root,\n",
        "    transform=train_transform,\n",
        ")\n",
        "train_size = int(np.ceil(0.7 * len(dataset)))\n",
        "valid_size = int(np.ceil(0.15 * len(dataset)))\n",
        "test_size = len(dataset) - train_size - valid_size\n",
        "train_dataset, valid_dataset, test_dataset = torch.utils.data.random_split(\n",
        "    dataset, [train_size, valid_size, test_size]\n",
        ")\n",
        "train_loader = DataLoader(train_dataset, batch_size=BATCH_SIZE, shuffle=True)\n",
        "valid_loader = DataLoader(valid_dataset, batch_size=BATCH_SIZE, shuffle=False)\n",
        "test_loader = DataLoader(test_dataset, batch_size=1, shuffle=False)\n",
        "'''\n",
        "\n",
        "train_dataset = BirdDataset(train_list, train_labels, train_transform)\n",
        "valid_dataset = BirdDataset(valid_list, valid_labels, valid_transform)\n",
        "test_dataset = BirdDataset(test_list, test_labels, valid_transform)\n",
        "\n",
        "train_loader = DataLoader(train_dataset, batch_size=BATCH_SIZE, shuffle=True)\n",
        "valid_loader = DataLoader(valid_dataset, batch_size=BATCH_SIZE, shuffle=False)\n",
        "test_loader = DataLoader(test_dataset, batch_size=1, shuffle=False)\n",
        "print(f\"Train : Valid: Test = {len(train_dataset)} : {len(valid_dataset)} : {len(test_loader)}\")"
      ]
    },
    {
      "cell_type": "code",
      "execution_count": 8,
      "metadata": {
        "id": "lzKbSI0QlLtY"
      },
      "outputs": [],
      "source": [
        "def class_counter(dataset):\n",
        "    class_counts = {}\n",
        "    for _, label in dataset:\n",
        "        class_counts[label] = class_counts.get(label, 0) + 1\n",
        "    return class_counts\n",
        "\n",
        "def check_split_each_class(train_dataset, valid_dataset, test_dataset):\n",
        "    train_class_counts = class_counter(train_dataset)\n",
        "    valid_class_counts = class_counter(valid_dataset)\n",
        "    test_class_counts = class_counter(test_dataset)\n",
        "    for key in train_class_counts:\n",
        "        print(f\"Class {key}: train : valid : test = {train_class_counts[key]} : {valid_class_counts[key]}: {test_class_counts[key]}\")"
      ]
    },
    {
      "cell_type": "code",
      "execution_count": 9,
      "metadata": {},
      "outputs": [
        {
          "name": "stdout",
          "output_type": "stream",
          "text": [
            "Class 0: train : valid : test = 31 : 7: 6\n",
            "Class 1: train : valid : test = 42 : 9: 9\n",
            "Class 2: train : valid : test = 41 : 9: 8\n",
            "Class 3: train : valid : test = 42 : 9: 8\n",
            "Class 4: train : valid : test = 42 : 9: 9\n",
            "Class 5: train : valid : test = 42 : 9: 9\n",
            "Class 6: train : valid : test = 42 : 9: 9\n",
            "Class 7: train : valid : test = 42 : 9: 9\n",
            "Class 8: train : valid : test = 42 : 9: 9\n",
            "Class 9: train : valid : test = 42 : 9: 9\n",
            "Class 10: train : valid : test = 42 : 9: 9\n",
            "Class 11: train : valid : test = 42 : 9: 9\n",
            "Class 12: train : valid : test = 42 : 9: 9\n",
            "Class 13: train : valid : test = 42 : 9: 9\n",
            "Class 14: train : valid : test = 42 : 9: 9\n",
            "Class 15: train : valid : test = 42 : 9: 8\n",
            "Class 16: train : valid : test = 41 : 9: 8\n",
            "Class 17: train : valid : test = 42 : 9: 8\n",
            "Class 18: train : valid : test = 42 : 9: 9\n",
            "Class 19: train : valid : test = 42 : 9: 8\n"
          ]
        }
      ],
      "source": [
        "# verify the dataset split in each class\n",
        "check_split_each_class(train_dataset, valid_dataset, test_dataset)"
      ]
    },
    {
      "cell_type": "code",
      "execution_count": 55,
      "metadata": {
        "id": "aojv8lIBlUDY"
      },
      "outputs": [],
      "source": [
        "class VggModel(nn.Module):\n",
        "    def __init__(self, num_classes=20):\n",
        "        super(VggModel, self).__init__()\n",
        "        self.model = vgg16(weights='IMAGENET1K_V1')\n",
        "        fc_in_features = self.model.classifier[0].in_features\n",
        "        self.model.classifier = nn.Identity()  # drop the original classifier (fc layers)\n",
        "        self.freeze_layers()\n",
        "\n",
        "        # the input size and the output size of the intermediate fc layer are the same\n",
        "        # therefore, fine-tune this classifier is equivalent to fine-tune the last fc layer\n",
        "        self.classifier = nn.Sequential(\n",
        "            nn.Linear(fc_in_features , 4096),\n",
        "            nn.ReLU(),\n",
        "            nn.Linear(4096, 4096),\n",
        "            nn.ReLU(),\n",
        "            nn.BatchNorm1d(4096),\n",
        "            nn.Dropout(0.2, inplace=False),\n",
        "            nn.Linear(4096, num_classes, bias=True)\n",
        "        )\n",
        "\n",
        "    def freeze_layers(self):\n",
        "        for param in self.model.parameters():\n",
        "            param.requres_grad = False\n",
        "\n",
        "    def forward(self, x):\n",
        "        x = self.model(x)\n",
        "        logits = self.classifier(x)\n",
        "        output = F.softmax(logits, dim=1)\n",
        "        return output"
      ]
    },
    {
      "cell_type": "code",
      "execution_count": 56,
      "metadata": {
        "id": "_VEOiOvVAkxC"
      },
      "outputs": [],
      "source": [
        "class EfficientNetModel(nn.Module):\n",
        "    def __init__(self, num_classes=20):\n",
        "        super(EfficientNetModel, self).__init__()\n",
        "        self.model = efficientnet_b0(weights='IMAGENET1K_V1')\n",
        "        self.model.classifier = nn.Identity()  # drop the original classifier (fc layers)\n",
        "        self.freeze_layers()\n",
        "\n",
        "        # the input size and the output size of the first fc layer are the same\n",
        "        # therefore, fine-tune this classifier is equivalent to fine-tune the last fc layer\n",
        "        self.classifier = nn.Sequential(\n",
        "            nn.Linear(in_features=1280, out_features=1280, bias=True),\n",
        "            nn.ReLU(inplace=True),\n",
        "            nn.BatchNorm1d(1280),\n",
        "            nn.Dropout(p=0.2, inplace=True),\n",
        "            nn.Linear(in_features=1280, out_features=num_classes, bias=True),\n",
        "        )\n",
        "\n",
        "    def freeze_layers(self):\n",
        "        for param in self.model.parameters():\n",
        "            param.requres_grad = False\n",
        "\n",
        "    def forward(self, x):\n",
        "        x = self.model(x)\n",
        "        logits = self.classifier(x)\n",
        "        output = F.softmax(logits, dim=1)\n",
        "        return logits"
      ]
    },
    {
      "cell_type": "code",
      "execution_count": 56,
      "metadata": {
        "id": "OkBEQl0BC3Ra"
      },
      "outputs": [],
      "source": [
        "def one_hot_encode_labels(labels : torch.Tensor):\n",
        "    labels_ = []\n",
        "    for j in range(labels.size(0)):\n",
        "        label_ = np.zeros(20)\n",
        "        label_[labels[j]] = 1.0\n",
        "        labels_.append(label_)\n",
        "    return torch.tensor(np.array(labels_))"
      ]
    },
    {
      "cell_type": "code",
      "execution_count": 58,
      "metadata": {
        "id": "vSFiiTWYANkK"
      },
      "outputs": [],
      "source": [
        "def train(model, epochs, device, train_dataloader, valid_dataloader, criterion, optimizer, model_name='vgg'):\n",
        "    model.to(device)\n",
        "    train_losses = []\n",
        "    val_losses = []\n",
        "    train_acc = []\n",
        "    val_acc = []\n",
        "    patience = 25\n",
        "    best_val_loss = float('inf')\n",
        "    for epoch in range(epochs):\n",
        "        model.train()\n",
        "        losses = []\n",
        "        train_pred = []\n",
        "        train_labels = []\n",
        "        for images, labels in tqdm(train_dataloader):\n",
        "            # change the label to a tensor in size of 20 to match the output of softmax\n",
        "            labels_ = one_hot_encode_labels(labels).to(device)\n",
        "            images = images.to(device)\n",
        "            optimizer.zero_grad()\n",
        "            outputs = model(images)\n",
        "            pred = outputs.argmax(dim=1)\n",
        "            train_labels.extend(labels.cpu().numpy())\n",
        "            train_pred.extend(pred.cpu().numpy())\n",
        "            loss = criterion(outputs, labels_)\n",
        "            loss.backward()\n",
        "            optimizer.step()\n",
        "            losses.append(loss.item())\n",
        "        train_losses.append(np.mean(losses))\n",
        "        acc = accuracy_score(train_pred, train_labels)\n",
        "        train_acc.append(acc)\n",
        "        print(f\"Epoch {epoch + 1}  Loss: {np.mean(losses)} Accuracy: {np.round(acc, 4)}\")\n",
        "\n",
        "        # validation\n",
        "        with torch.no_grad():\n",
        "            model.eval()\n",
        "            losses_ = []\n",
        "            val_pred = []\n",
        "            val_labels = []\n",
        "            for images, labels in tqdm(valid_dataloader):\n",
        "                # use one-hot encoding\n",
        "                labels_ = one_hot_encode_labels(labels).to(device)\n",
        "                images = images.to(device)\n",
        "                outputs = model(images)\n",
        "                pred = outputs.argmax(dim=1)\n",
        "                loss = criterion(outputs, labels_)\n",
        "                losses_.append(loss.item())\n",
        "                val_labels.extend(labels.cpu().numpy())\n",
        "                val_pred.extend(pred.cpu().numpy())\n",
        "            acc = accuracy_score(val_pred, val_labels)\n",
        "            current_loss = np.mean(losses_)\n",
        "            val_losses.append(current_loss)\n",
        "            val_acc.append(acc)\n",
        "            if current_loss <= best_val_loss:\n",
        "                early_stopping_counter = 0\n",
        "                best_weights = model.state_dict()\n",
        "                torch.save(best_weights, f'best_{model_name}.pth')\n",
        "                best_val_loss = current_loss\n",
        "            else:\n",
        "                early_stopping_counter += 1\n",
        "                if early_stopping_counter == patience:\n",
        "                    print(f\"Early stopping at epoch {epoch}\")\n",
        "                    break\n",
        "            print(f\"Validation Accuracy: {np.round(acc, 4)} Loss: {current_loss}  Best Loss: {best_val_loss}\")\n",
        "    return train_losses, val_losses, train_acc, val_acc\n"
      ]
    },
    {
      "cell_type": "code",
      "execution_count": 59,
      "metadata": {
        "id": "ETP6T08l4TT6"
      },
      "outputs": [],
      "source": [
        "def test(model, weight_path, test_dataloader, device):\n",
        "  checkpoint = torch.load(weight_path)\n",
        "  model.load_state_dict(checkpoint)\n",
        "  model.eval()\n",
        "  test_labels = []\n",
        "  test_pred = []\n",
        "  with torch.no_grad():\n",
        "      for image, labels in test_dataloader:\n",
        "          image, labels = image.to(device), labels.to(device)\n",
        "          outputs = model(image)\n",
        "          pred = outputs.argmax(dim=1)\n",
        "          test_labels.extend(labels.cpu().numpy())\n",
        "          test_pred.extend(pred.cpu().numpy())\n",
        "  precision = precision_score(test_labels, test_pred, average='macro')\n",
        "  recall = recall_score(test_labels, test_pred, average='macro')\n",
        "  f1 = f1_score(test_labels, test_pred, average='macro')\n",
        "  # print(f\"Test: Precision: {np.round(precision, 4)}  Recall: {np.round(recall, 4)}  F1-Score: {np.round(f1, 4)}\")\n",
        "  return precision, recall, f1\n"
      ]
    },
    {
      "cell_type": "code",
      "execution_count": 37,
      "metadata": {
        "id": "WuAjNf5X970V"
      },
      "outputs": [],
      "source": [
        "def plot_error(train_losses, val_losses):\n",
        "  x = range(1, len(train_losses) + 1)\n",
        "  plt.plot(x, train_losses, label='Training Loss')\n",
        "  plt.plot(x, val_losses, label='Valid Loss')\n",
        "  plt.xlabel('Epoch')\n",
        "  plt.ylabel('Loss')\n",
        "  plt.legend()\n",
        "  plt.show()"
      ]
    },
    {
      "cell_type": "code",
      "execution_count": 38,
      "metadata": {
        "id": "pLuZKAMJFPsI"
      },
      "outputs": [],
      "source": [
        "def plot_acc(train_acc, val_acc):\n",
        "  x = range(1, len(train_acc) + 1)\n",
        "  plt.plot(x, train_acc, label='Training Acc')\n",
        "  plt.plot(x, val_acc, label='Valid Acc')\n",
        "  plt.xlabel('Epoch')\n",
        "  plt.ylabel('Accuracy')\n",
        "  plt.legend()\n",
        "  plt.show()"
      ]
    },
    {
      "cell_type": "markdown",
      "metadata": {
        "id": "NOoh0TPX9IKy"
      },
      "source": [
        "VGG16 Model"
      ]
    },
    {
      "cell_type": "code",
      "execution_count": null,
      "metadata": {
        "colab": {
          "base_uri": "https://localhost:8080/"
        },
        "id": "n2hsCu0GG-LD",
        "outputId": "40f73ecc-50c4-4aed-8774-52121dfd59c7"
      },
      "outputs": [
        {
          "name": "stderr",
          "output_type": "stream",
          "text": [
            "100%|██████████| 13/13 [00:26<00:00,  2.00s/it]\n"
          ]
        },
        {
          "name": "stdout",
          "output_type": "stream",
          "text": [
            "Epoch 1  Loss: 0.30085177480957287 Accuracy: 0.683\n"
          ]
        },
        {
          "name": "stderr",
          "output_type": "stream",
          "text": [
            "100%|██████████| 3/3 [00:03<00:00,  1.19s/it]\n"
          ]
        },
        {
          "name": "stdout",
          "output_type": "stream",
          "text": [
            "Validation Accuracy: 0.3638 Loss: 0.31984287132577033  Best Loss: 0.31984287132577033\n"
          ]
        },
        {
          "name": "stderr",
          "output_type": "stream",
          "text": [
            "100%|██████████| 13/13 [00:25<00:00,  1.96s/it]\n"
          ]
        },
        {
          "name": "stdout",
          "output_type": "stream",
          "text": [
            "Epoch 2  Loss: 0.3005300849981434 Accuracy: 0.6495\n"
          ]
        },
        {
          "name": "stderr",
          "output_type": "stream",
          "text": [
            "100%|██████████| 3/3 [00:03<00:00,  1.25s/it]\n"
          ]
        },
        {
          "name": "stdout",
          "output_type": "stream",
          "text": [
            "Validation Accuracy: 0.3638 Loss: 0.3198428713391574  Best Loss: 0.31984287132577033\n"
          ]
        },
        {
          "name": "stderr",
          "output_type": "stream",
          "text": [
            "100%|██████████| 13/13 [00:27<00:00,  2.09s/it]\n"
          ]
        },
        {
          "name": "stdout",
          "output_type": "stream",
          "text": [
            "Epoch 3  Loss: 0.29943469274449386 Accuracy: 0.7389\n"
          ]
        },
        {
          "name": "stderr",
          "output_type": "stream",
          "text": [
            "100%|██████████| 3/3 [00:04<00:00,  1.49s/it]\n"
          ]
        },
        {
          "name": "stdout",
          "output_type": "stream",
          "text": [
            "Validation Accuracy: 0.3638 Loss: 0.31971453530703114  Best Loss: 0.31971453530703114\n"
          ]
        },
        {
          "name": "stderr",
          "output_type": "stream",
          "text": [
            "100%|██████████| 13/13 [00:26<00:00,  2.07s/it]\n"
          ]
        },
        {
          "name": "stdout",
          "output_type": "stream",
          "text": [
            "Epoch 4  Loss: 0.2992337289354979 Accuracy: 0.7612\n"
          ]
        },
        {
          "name": "stderr",
          "output_type": "stream",
          "text": [
            "100%|██████████| 3/3 [00:03<00:00,  1.20s/it]\n"
          ]
        },
        {
          "name": "stdout",
          "output_type": "stream",
          "text": [
            "Validation Accuracy: 0.4678 Loss: 0.31806466454915844  Best Loss: 0.31806466454915844\n"
          ]
        },
        {
          "name": "stderr",
          "output_type": "stream",
          "text": [
            "100%|██████████| 13/13 [00:26<00:00,  2.01s/it]\n"
          ]
        },
        {
          "name": "stdout",
          "output_type": "stream",
          "text": [
            "Epoch 5  Loss: 0.2981516059084216 Accuracy: 0.8728\n"
          ]
        },
        {
          "name": "stderr",
          "output_type": "stream",
          "text": [
            "100%|██████████| 3/3 [00:04<00:00,  1.42s/it]\n"
          ]
        },
        {
          "name": "stdout",
          "output_type": "stream",
          "text": [
            "Validation Accuracy: 0.4158 Loss: 0.3189630121901693  Best Loss: 0.31806466454915844\n"
          ]
        },
        {
          "name": "stderr",
          "output_type": "stream",
          "text": [
            "100%|██████████| 13/13 [00:25<00:00,  1.96s/it]\n"
          ]
        },
        {
          "name": "stdout",
          "output_type": "stream",
          "text": [
            "Epoch 6  Loss: 0.29859201210763925 Accuracy: 0.8505\n"
          ]
        },
        {
          "name": "stderr",
          "output_type": "stream",
          "text": [
            "100%|██████████| 3/3 [00:04<00:00,  1.43s/it]\n"
          ]
        },
        {
          "name": "stdout",
          "output_type": "stream",
          "text": [
            "Validation Accuracy: 0.5198 Loss: 0.31785485801949775  Best Loss: 0.31785485801949775\n"
          ]
        },
        {
          "name": "stderr",
          "output_type": "stream",
          "text": [
            "100%|██████████| 13/13 [00:26<00:00,  2.05s/it]\n"
          ]
        },
        {
          "name": "stdout",
          "output_type": "stream",
          "text": [
            "Epoch 7  Loss: 0.2982309879213138 Accuracy: 0.8728\n"
          ]
        },
        {
          "name": "stderr",
          "output_type": "stream",
          "text": [
            "100%|██████████| 3/3 [00:03<00:00,  1.22s/it]\n"
          ]
        },
        {
          "name": "stdout",
          "output_type": "stream",
          "text": [
            "Validation Accuracy: 0.3119 Loss: 0.3202559843815605  Best Loss: 0.31785485801949775\n"
          ]
        },
        {
          "name": "stderr",
          "output_type": "stream",
          "text": [
            "100%|██████████| 13/13 [00:25<00:00,  1.99s/it]\n"
          ]
        },
        {
          "name": "stdout",
          "output_type": "stream",
          "text": [
            "Epoch 8  Loss: 0.2998995877899638 Accuracy: 0.7165\n"
          ]
        },
        {
          "name": "stderr",
          "output_type": "stream",
          "text": [
            "100%|██████████| 3/3 [00:03<00:00,  1.20s/it]\n"
          ]
        },
        {
          "name": "stdout",
          "output_type": "stream",
          "text": [
            "Validation Accuracy: 0.6237 Loss: 0.3172298086732382  Best Loss: 0.3172298086732382\n"
          ]
        },
        {
          "name": "stderr",
          "output_type": "stream",
          "text": [
            "100%|██████████| 13/13 [00:26<00:00,  2.01s/it]\n"
          ]
        },
        {
          "name": "stdout",
          "output_type": "stream",
          "text": [
            "Epoch 9  Loss: 0.2992136293990225 Accuracy: 0.7947\n"
          ]
        },
        {
          "name": "stderr",
          "output_type": "stream",
          "text": [
            "100%|██████████| 3/3 [00:04<00:00,  1.49s/it]\n"
          ]
        },
        {
          "name": "stdout",
          "output_type": "stream",
          "text": [
            "Validation Accuracy: 0.7797 Loss: 0.3154856898533762  Best Loss: 0.3154856898533762\n"
          ]
        },
        {
          "name": "stderr",
          "output_type": "stream",
          "text": [
            "100%|██████████| 13/13 [00:26<00:00,  2.01s/it]\n"
          ]
        },
        {
          "name": "stdout",
          "output_type": "stream",
          "text": [
            "Epoch 10  Loss: 0.29987385852980747 Accuracy: 0.7054\n"
          ]
        },
        {
          "name": "stderr",
          "output_type": "stream",
          "text": [
            "100%|██████████| 3/3 [00:03<00:00,  1.19s/it]\n"
          ]
        },
        {
          "name": "stdout",
          "output_type": "stream",
          "text": [
            "Validation Accuracy: 0.7797 Loss: 0.3147886112022671  Best Loss: 0.3147886112022671\n"
          ]
        },
        {
          "name": "stderr",
          "output_type": "stream",
          "text": [
            "100%|██████████| 13/13 [00:26<00:00,  2.01s/it]\n"
          ]
        },
        {
          "name": "stdout",
          "output_type": "stream",
          "text": [
            "Epoch 11  Loss: 0.29988050747360445 Accuracy: 0.7389\n"
          ]
        },
        {
          "name": "stderr",
          "output_type": "stream",
          "text": [
            "100%|██████████| 3/3 [00:03<00:00,  1.26s/it]\n"
          ]
        },
        {
          "name": "stdout",
          "output_type": "stream",
          "text": [
            "Validation Accuracy: 0.7797 Loss: 0.31432492650756777  Best Loss: 0.31432492650756777\n"
          ]
        },
        {
          "name": "stderr",
          "output_type": "stream",
          "text": [
            "100%|██████████| 13/13 [00:25<00:00,  1.99s/it]\n"
          ]
        },
        {
          "name": "stdout",
          "output_type": "stream",
          "text": [
            "Epoch 12  Loss: 0.2985989183827302 Accuracy: 0.8282\n"
          ]
        },
        {
          "name": "stderr",
          "output_type": "stream",
          "text": [
            "100%|██████████| 3/3 [00:03<00:00,  1.32s/it]\n"
          ]
        },
        {
          "name": "stdout",
          "output_type": "stream",
          "text": [
            "Validation Accuracy: 0.7797 Loss: 0.31429478148789564  Best Loss: 0.31429478148789564\n"
          ]
        },
        {
          "name": "stderr",
          "output_type": "stream",
          "text": [
            "100%|██████████| 13/13 [00:26<00:00,  2.03s/it]\n"
          ]
        },
        {
          "name": "stdout",
          "output_type": "stream",
          "text": [
            "Epoch 13  Loss: 0.30051561122601106 Accuracy: 0.6607\n"
          ]
        },
        {
          "name": "stderr",
          "output_type": "stream",
          "text": [
            "100%|██████████| 3/3 [00:03<00:00,  1.20s/it]\n"
          ]
        },
        {
          "name": "stdout",
          "output_type": "stream",
          "text": [
            "Validation Accuracy: 0.4158 Loss: 0.31900231720829697  Best Loss: 0.31429478148789564\n"
          ]
        },
        {
          "name": "stderr",
          "output_type": "stream",
          "text": [
            "100%|██████████| 13/13 [00:26<00:00,  2.00s/it]\n"
          ]
        },
        {
          "name": "stdout",
          "output_type": "stream",
          "text": [
            "Epoch 14  Loss: 0.299678167525399 Accuracy: 0.7612\n"
          ]
        },
        {
          "name": "stderr",
          "output_type": "stream",
          "text": [
            "100%|██████████| 3/3 [00:03<00:00,  1.25s/it]\n"
          ]
        },
        {
          "name": "stdout",
          "output_type": "stream",
          "text": [
            "Validation Accuracy: 0.6237 Loss: 0.31697687748265596  Best Loss: 0.31429478148789564\n"
          ]
        },
        {
          "name": "stderr",
          "output_type": "stream",
          "text": [
            "100%|██████████| 13/13 [00:25<00:00,  1.99s/it]\n"
          ]
        },
        {
          "name": "stdout",
          "output_type": "stream",
          "text": [
            "Epoch 15  Loss: 0.30008367162385463 Accuracy: 0.7054\n"
          ]
        },
        {
          "name": "stderr",
          "output_type": "stream",
          "text": [
            "100%|██████████| 3/3 [00:04<00:00,  1.45s/it]\n"
          ]
        },
        {
          "name": "stdout",
          "output_type": "stream",
          "text": [
            "Validation Accuracy: 0.7277 Loss: 0.31578281618171855  Best Loss: 0.31429478148789564\n"
          ]
        },
        {
          "name": "stderr",
          "output_type": "stream",
          "text": [
            "100%|██████████| 13/13 [00:25<00:00,  1.98s/it]\n"
          ]
        },
        {
          "name": "stdout",
          "output_type": "stream",
          "text": [
            "Epoch 16  Loss: 0.2987239736927173 Accuracy: 0.8393\n"
          ]
        },
        {
          "name": "stderr",
          "output_type": "stream",
          "text": [
            "100%|██████████| 3/3 [00:04<00:00,  1.36s/it]\n"
          ]
        },
        {
          "name": "stdout",
          "output_type": "stream",
          "text": [
            "Validation Accuracy: 0.7277 Loss: 0.31565596698294535  Best Loss: 0.31429478148789564\n"
          ]
        },
        {
          "name": "stderr",
          "output_type": "stream",
          "text": [
            "100%|██████████| 13/13 [00:26<00:00,  2.01s/it]\n"
          ]
        },
        {
          "name": "stdout",
          "output_type": "stream",
          "text": [
            "Epoch 17  Loss: 0.29915351256418776 Accuracy: 0.7835\n"
          ]
        },
        {
          "name": "stderr",
          "output_type": "stream",
          "text": [
            "100%|██████████| 3/3 [00:03<00:00,  1.19s/it]\n",
            "100%|██████████| 13/13 [00:25<00:00,  1.99s/it]\n"
          ]
        },
        {
          "name": "stdout",
          "output_type": "stream",
          "text": [
            "Epoch 18  Loss: 0.2991747293647037 Accuracy: 0.7724\n"
          ]
        },
        {
          "name": "stderr",
          "output_type": "stream",
          "text": [
            "100%|██████████| 3/3 [00:03<00:00,  1.19s/it]\n"
          ]
        },
        {
          "name": "stdout",
          "output_type": "stream",
          "text": [
            "Validation Accuracy: 0.8836 Loss: 0.31473732814940586  Best Loss: 0.31429478148789564\n"
          ]
        },
        {
          "name": "stderr",
          "output_type": "stream",
          "text": [
            "100%|██████████| 13/13 [00:25<00:00,  1.98s/it]\n"
          ]
        },
        {
          "name": "stdout",
          "output_type": "stream",
          "text": [
            "Epoch 19  Loss: 0.29999445385808443 Accuracy: 0.7165\n"
          ]
        },
        {
          "name": "stderr",
          "output_type": "stream",
          "text": [
            "100%|██████████| 3/3 [00:03<00:00,  1.17s/it]\n"
          ]
        },
        {
          "name": "stdout",
          "output_type": "stream",
          "text": [
            "Validation Accuracy: 0.7277 Loss: 0.31541509111620597  Best Loss: 0.31429478148789564\n"
          ]
        },
        {
          "name": "stderr",
          "output_type": "stream",
          "text": [
            "100%|██████████| 13/13 [00:25<00:00,  1.97s/it]\n"
          ]
        },
        {
          "name": "stdout",
          "output_type": "stream",
          "text": [
            "Epoch 20  Loss: 0.30037881295719293 Accuracy: 0.7054\n"
          ]
        },
        {
          "name": "stderr",
          "output_type": "stream",
          "text": [
            "100%|██████████| 3/3 [00:03<00:00,  1.26s/it]\n"
          ]
        },
        {
          "name": "stdout",
          "output_type": "stream",
          "text": [
            "Validation Accuracy: 0.6757 Loss: 0.31578009231541043  Best Loss: 0.31429478148789564\n"
          ]
        },
        {
          "name": "stderr",
          "output_type": "stream",
          "text": [
            "100%|██████████| 13/13 [00:25<00:00,  1.98s/it]\n"
          ]
        },
        {
          "name": "stdout",
          "output_type": "stream",
          "text": [
            "Epoch 21  Loss: 0.299203417428159 Accuracy: 0.7835\n"
          ]
        },
        {
          "name": "stderr",
          "output_type": "stream",
          "text": [
            "100%|██████████| 3/3 [00:04<00:00,  1.50s/it]\n"
          ]
        },
        {
          "name": "stdout",
          "output_type": "stream",
          "text": [
            "Validation Accuracy: 0.8316 Loss: 0.3142250851834546  Best Loss: 0.3142250851834546\n"
          ]
        },
        {
          "name": "stderr",
          "output_type": "stream",
          "text": [
            "100%|██████████| 13/13 [00:25<00:00,  1.99s/it]\n"
          ]
        },
        {
          "name": "stdout",
          "output_type": "stream",
          "text": [
            "Epoch 22  Loss: 0.2990416460631447 Accuracy: 0.817\n"
          ]
        },
        {
          "name": "stderr",
          "output_type": "stream",
          "text": [
            "100%|██████████| 3/3 [00:03<00:00,  1.21s/it]\n"
          ]
        },
        {
          "name": "stdout",
          "output_type": "stream",
          "text": [
            "Validation Accuracy: 0.7277 Loss: 0.3151689759258731  Best Loss: 0.3142250851834546\n"
          ]
        },
        {
          "name": "stderr",
          "output_type": "stream",
          "text": [
            "100%|██████████| 13/13 [00:25<00:00,  1.99s/it]\n"
          ]
        },
        {
          "name": "stdout",
          "output_type": "stream",
          "text": [
            "Epoch 23  Loss: 0.2991671662964204 Accuracy: 0.7724\n"
          ]
        },
        {
          "name": "stderr",
          "output_type": "stream",
          "text": [
            "100%|██████████| 3/3 [00:03<00:00,  1.20s/it]\n"
          ]
        },
        {
          "name": "stdout",
          "output_type": "stream",
          "text": [
            "Validation Accuracy: 0.6757 Loss: 0.31553179011996124  Best Loss: 0.3142250851834546\n"
          ]
        },
        {
          "name": "stderr",
          "output_type": "stream",
          "text": [
            "100%|██████████| 13/13 [00:25<00:00,  1.98s/it]\n"
          ]
        },
        {
          "name": "stdout",
          "output_type": "stream",
          "text": [
            "Epoch 24  Loss: 0.298464941515402 Accuracy: 0.8393\n"
          ]
        },
        {
          "name": "stderr",
          "output_type": "stream",
          "text": [
            "100%|██████████| 3/3 [00:03<00:00,  1.19s/it]\n"
          ]
        },
        {
          "name": "stdout",
          "output_type": "stream",
          "text": [
            "Validation Accuracy: 0.7277 Loss: 0.3154480725298469  Best Loss: 0.3142250851834546\n"
          ]
        },
        {
          "name": "stderr",
          "output_type": "stream",
          "text": [
            "100%|██████████| 13/13 [00:25<00:00,  1.96s/it]\n"
          ]
        },
        {
          "name": "stdout",
          "output_type": "stream",
          "text": [
            "Epoch 25  Loss: 0.2985573985411648 Accuracy: 0.8505\n"
          ]
        },
        {
          "name": "stderr",
          "output_type": "stream",
          "text": [
            "100%|██████████| 3/3 [00:03<00:00,  1.31s/it]\n"
          ]
        },
        {
          "name": "stdout",
          "output_type": "stream",
          "text": [
            "Validation Accuracy: 0.6757 Loss: 0.31570482977246445  Best Loss: 0.3142250851834546\n"
          ]
        },
        {
          "name": "stderr",
          "output_type": "stream",
          "text": [
            "100%|██████████| 13/13 [00:25<00:00,  1.98s/it]\n"
          ]
        },
        {
          "name": "stdout",
          "output_type": "stream",
          "text": [
            "Epoch 26  Loss: 0.29910982075940645 Accuracy: 0.7835\n"
          ]
        },
        {
          "name": "stderr",
          "output_type": "stream",
          "text": [
            "100%|██████████| 3/3 [00:04<00:00,  1.47s/it]\n",
            "100%|██████████| 13/13 [00:25<00:00,  1.96s/it]\n"
          ]
        },
        {
          "name": "stdout",
          "output_type": "stream",
          "text": [
            "Epoch 27  Loss: 0.2991628675330576 Accuracy: 0.7724\n"
          ]
        },
        {
          "name": "stderr",
          "output_type": "stream",
          "text": [
            "100%|██████████| 3/3 [00:03<00:00,  1.29s/it]\n"
          ]
        },
        {
          "name": "stdout",
          "output_type": "stream",
          "text": [
            "Validation Accuracy: 0.8316 Loss: 0.3144018163846557  Best Loss: 0.3142250851834546\n"
          ]
        },
        {
          "name": "stderr",
          "output_type": "stream",
          "text": [
            "100%|██████████| 13/13 [00:25<00:00,  1.97s/it]\n"
          ]
        },
        {
          "name": "stdout",
          "output_type": "stream",
          "text": [
            "Epoch 28  Loss: 0.29885783748747247 Accuracy: 0.8058\n"
          ]
        },
        {
          "name": "stderr",
          "output_type": "stream",
          "text": [
            "100%|██████████| 3/3 [00:03<00:00,  1.18s/it]\n"
          ]
        },
        {
          "name": "stdout",
          "output_type": "stream",
          "text": [
            "Validation Accuracy: 0.9356 Loss: 0.3129578318590963  Best Loss: 0.3129578318590963\n"
          ]
        },
        {
          "name": "stderr",
          "output_type": "stream",
          "text": [
            "100%|██████████| 13/13 [00:25<00:00,  1.98s/it]\n"
          ]
        },
        {
          "name": "stdout",
          "output_type": "stream",
          "text": [
            "Epoch 29  Loss: 0.29883378449969594 Accuracy: 0.8617\n"
          ]
        },
        {
          "name": "stderr",
          "output_type": "stream",
          "text": [
            "100%|██████████| 3/3 [00:03<00:00,  1.22s/it]\n"
          ]
        },
        {
          "name": "stdout",
          "output_type": "stream",
          "text": [
            "Validation Accuracy: 0.7797 Loss: 0.31508433296537763  Best Loss: 0.3129578318590963\n"
          ]
        },
        {
          "name": "stderr",
          "output_type": "stream",
          "text": [
            "100%|██████████| 13/13 [00:25<00:00,  1.98s/it]\n"
          ]
        },
        {
          "name": "stdout",
          "output_type": "stream",
          "text": [
            "Epoch 30  Loss: 0.2988717847201738 Accuracy: 0.8393\n"
          ]
        },
        {
          "name": "stderr",
          "output_type": "stream",
          "text": [
            "100%|██████████| 3/3 [00:04<00:00,  1.36s/it]\n"
          ]
        },
        {
          "name": "stdout",
          "output_type": "stream",
          "text": [
            "Validation Accuracy: 0.7797 Loss: 0.31497103202686877  Best Loss: 0.3129578318590963\n"
          ]
        },
        {
          "name": "stderr",
          "output_type": "stream",
          "text": [
            "100%|██████████| 13/13 [00:25<00:00,  1.98s/it]\n"
          ]
        },
        {
          "name": "stdout",
          "output_type": "stream",
          "text": [
            "Epoch 31  Loss: 0.30035663751976627 Accuracy: 0.6719\n"
          ]
        },
        {
          "name": "stderr",
          "output_type": "stream",
          "text": [
            "100%|██████████| 3/3 [00:04<00:00,  1.47s/it]\n"
          ]
        },
        {
          "name": "stdout",
          "output_type": "stream",
          "text": [
            "Validation Accuracy: 0.6757 Loss: 0.31524797581002845  Best Loss: 0.3129578318590963\n"
          ]
        },
        {
          "name": "stderr",
          "output_type": "stream",
          "text": [
            "100%|██████████| 13/13 [00:25<00:00,  1.97s/it]\n"
          ]
        },
        {
          "name": "stdout",
          "output_type": "stream",
          "text": [
            "Epoch 32  Loss: 0.299033061923073 Accuracy: 0.8058\n"
          ]
        },
        {
          "name": "stderr",
          "output_type": "stream",
          "text": [
            "100%|██████████| 3/3 [00:03<00:00,  1.24s/it]\n"
          ]
        },
        {
          "name": "stdout",
          "output_type": "stream",
          "text": [
            "Validation Accuracy: 0.7797 Loss: 0.3144233104646435  Best Loss: 0.3129578318590963\n"
          ]
        },
        {
          "name": "stderr",
          "output_type": "stream",
          "text": [
            "100%|██████████| 13/13 [00:25<00:00,  2.00s/it]\n"
          ]
        },
        {
          "name": "stdout",
          "output_type": "stream",
          "text": [
            "Epoch 33  Loss: 0.2998125038554134 Accuracy: 0.7389\n"
          ]
        },
        {
          "name": "stderr",
          "output_type": "stream",
          "text": [
            "100%|██████████| 3/3 [00:03<00:00,  1.20s/it]\n",
            "100%|██████████| 13/13 [00:28<00:00,  2.18s/it]\n"
          ]
        },
        {
          "name": "stdout",
          "output_type": "stream",
          "text": [
            "Epoch 34  Loss: 0.29907628225981886 Accuracy: 0.7947\n"
          ]
        },
        {
          "name": "stderr",
          "output_type": "stream",
          "text": [
            "100%|██████████| 3/3 [00:09<00:00,  3.23s/it]\n"
          ]
        },
        {
          "name": "stdout",
          "output_type": "stream",
          "text": [
            "Validation Accuracy: 0.6757 Loss: 0.3155889354260499  Best Loss: 0.3129578318590963\n"
          ]
        },
        {
          "name": "stderr",
          "output_type": "stream",
          "text": [
            "100%|██████████| 13/13 [00:31<00:00,  2.42s/it]\n"
          ]
        },
        {
          "name": "stdout",
          "output_type": "stream",
          "text": [
            "Epoch 35  Loss: 0.29924093950309805 Accuracy: 0.7835\n"
          ]
        },
        {
          "name": "stderr",
          "output_type": "stream",
          "text": [
            "100%|██████████| 3/3 [00:03<00:00,  1.28s/it]\n"
          ]
        },
        {
          "name": "stdout",
          "output_type": "stream",
          "text": [
            "Validation Accuracy: 0.7797 Loss: 0.31450281307881034  Best Loss: 0.3129578318590963\n"
          ]
        },
        {
          "name": "stderr",
          "output_type": "stream",
          "text": [
            "100%|██████████| 13/13 [00:25<00:00,  1.99s/it]\n"
          ]
        },
        {
          "name": "stdout",
          "output_type": "stream",
          "text": [
            "Epoch 36  Loss: 0.2983732340200749 Accuracy: 0.8505\n"
          ]
        },
        {
          "name": "stderr",
          "output_type": "stream",
          "text": [
            "100%|██████████| 3/3 [00:03<00:00,  1.26s/it]\n"
          ]
        },
        {
          "name": "stdout",
          "output_type": "stream",
          "text": [
            "Validation Accuracy: 0.6757 Loss: 0.3155872998981363  Best Loss: 0.3129578318590963\n"
          ]
        },
        {
          "name": "stderr",
          "output_type": "stream",
          "text": [
            "100%|██████████| 13/13 [00:26<00:00,  2.03s/it]\n"
          ]
        },
        {
          "name": "stdout",
          "output_type": "stream",
          "text": [
            "Epoch 37  Loss: 0.2997775904140928 Accuracy: 0.7277\n"
          ]
        },
        {
          "name": "stderr",
          "output_type": "stream",
          "text": [
            "100%|██████████| 3/3 [00:04<00:00,  1.49s/it]\n"
          ]
        },
        {
          "name": "stdout",
          "output_type": "stream",
          "text": [
            "Validation Accuracy: 0.8836 Loss: 0.31372441350108604  Best Loss: 0.3129578318590963\n"
          ]
        },
        {
          "name": "stderr",
          "output_type": "stream",
          "text": [
            "100%|██████████| 13/13 [00:25<00:00,  1.97s/it]\n"
          ]
        },
        {
          "name": "stdout",
          "output_type": "stream",
          "text": [
            "Epoch 38  Loss: 0.2988536785398199 Accuracy: 0.817\n"
          ]
        },
        {
          "name": "stderr",
          "output_type": "stream",
          "text": [
            "100%|██████████| 3/3 [00:03<00:00,  1.29s/it]\n"
          ]
        },
        {
          "name": "stdout",
          "output_type": "stream",
          "text": [
            "Validation Accuracy: 0.7797 Loss: 0.3147303750826332  Best Loss: 0.3129578318590963\n"
          ]
        },
        {
          "name": "stderr",
          "output_type": "stream",
          "text": [
            "100%|██████████| 13/13 [00:26<00:00,  2.04s/it]\n"
          ]
        },
        {
          "name": "stdout",
          "output_type": "stream",
          "text": [
            "Epoch 39  Loss: 0.29822800710974445 Accuracy: 0.8728\n"
          ]
        },
        {
          "name": "stderr",
          "output_type": "stream",
          "text": [
            "100%|██████████| 3/3 [00:03<00:00,  1.17s/it]\n"
          ]
        },
        {
          "name": "stdout",
          "output_type": "stream",
          "text": [
            "Validation Accuracy: 0.7797 Loss: 0.3153708065288104  Best Loss: 0.3129578318590963\n"
          ]
        },
        {
          "name": "stderr",
          "output_type": "stream",
          "text": [
            "100%|██████████| 13/13 [00:25<00:00,  1.98s/it]\n"
          ]
        },
        {
          "name": "stdout",
          "output_type": "stream",
          "text": [
            "Epoch 40  Loss: 0.2992793443657085 Accuracy: 0.7835\n"
          ]
        },
        {
          "name": "stderr",
          "output_type": "stream",
          "text": [
            "100%|██████████| 3/3 [00:03<00:00,  1.19s/it]\n"
          ]
        },
        {
          "name": "stdout",
          "output_type": "stream",
          "text": [
            "Validation Accuracy: 0.8316 Loss: 0.31393168107797503  Best Loss: 0.3129578318590963\n"
          ]
        },
        {
          "name": "stderr",
          "output_type": "stream",
          "text": [
            "100%|██████████| 13/13 [00:26<00:00,  2.00s/it]\n"
          ]
        },
        {
          "name": "stdout",
          "output_type": "stream",
          "text": [
            "Epoch 41  Loss: 0.29911095075265964 Accuracy: 0.7947\n"
          ]
        },
        {
          "name": "stderr",
          "output_type": "stream",
          "text": [
            "100%|██████████| 3/3 [00:03<00:00,  1.18s/it]\n"
          ]
        },
        {
          "name": "stdout",
          "output_type": "stream",
          "text": [
            "Validation Accuracy: 0.7797 Loss: 0.3149649295222175  Best Loss: 0.3129578318590963\n"
          ]
        },
        {
          "name": "stderr",
          "output_type": "stream",
          "text": [
            "100%|██████████| 13/13 [00:25<00:00,  2.00s/it]\n"
          ]
        },
        {
          "name": "stdout",
          "output_type": "stream",
          "text": [
            "Epoch 42  Loss: 0.29895545641403176 Accuracy: 0.817\n"
          ]
        },
        {
          "name": "stderr",
          "output_type": "stream",
          "text": [
            "100%|██████████| 3/3 [00:04<00:00,  1.41s/it]\n"
          ]
        },
        {
          "name": "stdout",
          "output_type": "stream",
          "text": [
            "Validation Accuracy: 0.9356 Loss: 0.31310527371957464  Best Loss: 0.3129578318590963\n"
          ]
        },
        {
          "name": "stderr",
          "output_type": "stream",
          "text": [
            "100%|██████████| 13/13 [00:25<00:00,  1.97s/it]\n"
          ]
        },
        {
          "name": "stdout",
          "output_type": "stream",
          "text": [
            "Epoch 43  Loss: 0.29904817480005197 Accuracy: 0.7835\n"
          ]
        },
        {
          "name": "stderr",
          "output_type": "stream",
          "text": [
            "100%|██████████| 3/3 [00:04<00:00,  1.38s/it]\n"
          ]
        },
        {
          "name": "stdout",
          "output_type": "stream",
          "text": [
            "Validation Accuracy: 0.8836 Loss: 0.3143530412461766  Best Loss: 0.3129578318590963\n"
          ]
        },
        {
          "name": "stderr",
          "output_type": "stream",
          "text": [
            "100%|██████████| 13/13 [00:25<00:00,  1.99s/it]\n"
          ]
        },
        {
          "name": "stdout",
          "output_type": "stream",
          "text": [
            "Epoch 44  Loss: 0.2992439098888674 Accuracy: 0.7947\n"
          ]
        },
        {
          "name": "stderr",
          "output_type": "stream",
          "text": [
            "100%|██████████| 3/3 [00:03<00:00,  1.19s/it]\n"
          ]
        },
        {
          "name": "stdout",
          "output_type": "stream",
          "text": [
            "Validation Accuracy: 0.8836 Loss: 0.31355405977270784  Best Loss: 0.3129578318590963\n"
          ]
        },
        {
          "name": "stderr",
          "output_type": "stream",
          "text": [
            "100%|██████████| 13/13 [00:25<00:00,  1.99s/it]\n"
          ]
        },
        {
          "name": "stdout",
          "output_type": "stream",
          "text": [
            "Epoch 45  Loss: 0.2990242793001061 Accuracy: 0.7947\n"
          ]
        },
        {
          "name": "stderr",
          "output_type": "stream",
          "text": [
            "100%|██████████| 3/3 [00:03<00:00,  1.18s/it]\n"
          ]
        },
        {
          "name": "stdout",
          "output_type": "stream",
          "text": [
            "Validation Accuracy: 0.7277 Loss: 0.3148193919578011  Best Loss: 0.3129578318590963\n"
          ]
        },
        {
          "name": "stderr",
          "output_type": "stream",
          "text": [
            "100%|██████████| 13/13 [00:26<00:00,  2.00s/it]\n"
          ]
        },
        {
          "name": "stdout",
          "output_type": "stream",
          "text": [
            "Epoch 46  Loss: 0.30002747767139276 Accuracy: 0.7054\n"
          ]
        },
        {
          "name": "stderr",
          "output_type": "stream",
          "text": [
            "100%|██████████| 3/3 [00:03<00:00,  1.18s/it]\n"
          ]
        },
        {
          "name": "stdout",
          "output_type": "stream",
          "text": [
            "Validation Accuracy: 0.5718 Loss: 0.3171582500905233  Best Loss: 0.3129578318590963\n"
          ]
        },
        {
          "name": "stderr",
          "output_type": "stream",
          "text": [
            "100%|██████████| 13/13 [00:26<00:00,  2.00s/it]\n"
          ]
        },
        {
          "name": "stdout",
          "output_type": "stream",
          "text": [
            "Epoch 47  Loss: 0.29889339381738206 Accuracy: 0.8393\n"
          ]
        },
        {
          "name": "stderr",
          "output_type": "stream",
          "text": [
            "100%|██████████| 3/3 [00:03<00:00,  1.23s/it]\n"
          ]
        },
        {
          "name": "stdout",
          "output_type": "stream",
          "text": [
            "Validation Accuracy: 0.8316 Loss: 0.3139639422894868  Best Loss: 0.3129578318590963\n"
          ]
        },
        {
          "name": "stderr",
          "output_type": "stream",
          "text": [
            "100%|██████████| 13/13 [00:25<00:00,  1.97s/it]\n"
          ]
        },
        {
          "name": "stdout",
          "output_type": "stream",
          "text": [
            "Epoch 48  Loss: 0.2983888613316518 Accuracy: 0.8617\n"
          ]
        },
        {
          "name": "stderr",
          "output_type": "stream",
          "text": [
            "100%|██████████| 3/3 [00:04<00:00,  1.45s/it]\n"
          ]
        },
        {
          "name": "stdout",
          "output_type": "stream",
          "text": [
            "Validation Accuracy: 0.7277 Loss: 0.3145712869073391  Best Loss: 0.3129578318590963\n"
          ]
        },
        {
          "name": "stderr",
          "output_type": "stream",
          "text": [
            "100%|██████████| 13/13 [00:28<00:00,  2.19s/it]\n"
          ]
        },
        {
          "name": "stdout",
          "output_type": "stream",
          "text": [
            "Epoch 49  Loss: 0.2987394631169472 Accuracy: 0.8393\n"
          ]
        },
        {
          "name": "stderr",
          "output_type": "stream",
          "text": [
            "100%|██████████| 3/3 [00:03<00:00,  1.19s/it]\n"
          ]
        },
        {
          "name": "stdout",
          "output_type": "stream",
          "text": [
            "Validation Accuracy: 0.8316 Loss: 0.31511460512539957  Best Loss: 0.3129578318590963\n"
          ]
        },
        {
          "name": "stderr",
          "output_type": "stream",
          "text": [
            "100%|██████████| 13/13 [00:26<00:00,  2.06s/it]\n"
          ]
        },
        {
          "name": "stdout",
          "output_type": "stream",
          "text": [
            "Epoch 50  Loss: 0.2986044440471237 Accuracy: 0.8393\n"
          ]
        },
        {
          "name": "stderr",
          "output_type": "stream",
          "text": [
            "100%|██████████| 3/3 [00:03<00:00,  1.19s/it]"
          ]
        },
        {
          "name": "stdout",
          "output_type": "stream",
          "text": [
            "Validation Accuracy: 0.8316 Loss: 0.3140984116294118  Best Loss: 0.3129578318590963\n"
          ]
        },
        {
          "name": "stderr",
          "output_type": "stream",
          "text": [
            "\n"
          ]
        }
      ],
      "source": [
        "model = VggModel(num_classes=20)\n",
        "criterion = nn.CrossEntropyLoss()\n",
        "optimizer = Adam(model.parameters(), lr=LR)\n",
        "device = torch.device(\"cuda\" if torch.cuda.is_available() else \"cpu\")\n",
        "vgg_train_losses, vgg_val_losses, vgg_train_acc, vgg_val_acc = train(\n",
        "    model=model,\n",
        "    epochs=EPOCH,\n",
        "    device=device,\n",
        "    train_dataloader=train_loader,\n",
        "    valid_dataloader=valid_loader,\n",
        "    criterion=criterion,\n",
        "    optimizer=optimizer,\n",
        "    model_name='vgg',\n",
        ")"
      ]
    },
    {
      "cell_type": "code",
      "execution_count": null,
      "metadata": {
        "colab": {
          "base_uri": "https://localhost:8080/",
          "height": 449
        },
        "id": "-qZ4dLbn3jug",
        "outputId": "fdfd413c-2781-484b-b9be-708634d04c41"
      },
      "outputs": [
        {
          "data": {
            "image/png": "[encoded data removed]",
            "text/plain": [
              "<Figure size 640x480 with 1 Axes>"
            ]
          },
          "metadata": {},
          "output_type": "display_data"
        }
      ],
      "source": [
        "plot_error(vgg_train_losses, vgg_val_losses)"
      ]
    },
    {
      "cell_type": "code",
      "execution_count": null,
      "metadata": {
        "colab": {
          "base_uri": "https://localhost:8080/",
          "height": 449
        },
        "id": "m5hJAfYIHn3D",
        "outputId": "6f2cde7a-618d-4728-9ce5-6ba8f42b42c1"
      },
      "outputs": [
        {
          "data": {
            "image/png": "[encoded data removed]",
            "text/plain": [
              "<Figure size 640x480 with 1 Axes>"
            ]
          },
          "metadata": {},
          "output_type": "display_data"
        }
      ],
      "source": [
        "plot_acc(vgg_train_acc, vgg_val_acc)"
      ]
    },
    {
      "cell_type": "code",
      "execution_count": 60,
      "metadata": {
        "colab": {
          "base_uri": "https://localhost:8080/"
        },
        "id": "DK-GFlwzBCvf",
        "outputId": "7bd93221-58be-40d5-c037-7893db860113"
      },
      "outputs": [
        {
          "name": "stdout",
          "output_type": "stream",
          "text": [
            "Test: Precision: 0.6931  Recall: 0.6926  F1-Score: 0.6846\n"
          ]
        }
      ],
      "source": [
        "precision, recall, f1 = test(model, 'best_vgg.pth', test_loader, device)\n",
        "print(f\"Test: Precision: {np.round(precision, 4)}  Recall: {np.round(recall, 4)}  F1-Score: {np.round(f1, 4)}\")"
      ]
    },
    {
      "cell_type": "code",
      "execution_count": 69,
      "metadata": {
        "colab": {
          "base_uri": "https://localhost:8080/"
        },
        "id": "6tWOE9xWkgTz",
        "outputId": "4faf4625-3586-439c-c915-8645825858ff"
      },
      "outputs": [
        {
          "name": "stdout",
          "output_type": "stream",
          "text": [
            "Training: Precision: 0.8912  Recall: 0.8756  F1-Score: 0.8903\n"
          ]
        }
      ],
      "source": [
        "precision, recall, f1 = test(model, 'best_vgg.pth', train_loader, device)\n",
        "print(f\"Training: Precision: {np.round(precision, 4)}  Recall: {np.round(recall, 4)}  F1-Score: {np.round(f1, 4)}\")"
      ]
    },
    {
      "cell_type": "markdown",
      "metadata": {
        "id": "ssgqpGP7UIZP"
      },
      "source": [
        "EfficientNet B0"
      ]
    },
    {
      "cell_type": "code",
      "execution_count": 45,
      "metadata": {
        "colab": {
          "base_uri": "https://localhost:8080/"
        },
        "id": "7u0gXiNlDyxz",
        "outputId": "021ec7d7-f041-4038-9243-b4e43daa33d6"
      },
      "outputs": [
        {
          "name": "stderr",
          "output_type": "stream",
          "text": [
            "100%|██████████| 13/13 [00:18<00:00,  1.41s/it]\n"
          ]
        },
        {
          "name": "stdout",
          "output_type": "stream",
          "text": [
            "Epoch 1  Loss: 2.5633185483684127 Accuracy: 0.2658\n"
          ]
        },
        {
          "name": "stderr",
          "output_type": "stream",
          "text": [
            "100%|██████████| 3/3 [00:03<00:00,  1.18s/it]\n"
          ]
        },
        {
          "name": "stdout",
          "output_type": "stream",
          "text": [
            "Validation Accuracy: 0.5593 Loss: 1.437119381378035  Best Loss: 1.437119381378035\n"
          ]
        },
        {
          "name": "stderr",
          "output_type": "stream",
          "text": [
            "100%|██████████| 13/13 [00:17<00:00,  1.35s/it]\n"
          ]
        },
        {
          "name": "stdout",
          "output_type": "stream",
          "text": [
            "Epoch 2  Loss: 1.4485157209644088 Accuracy: 0.5947\n"
          ]
        },
        {
          "name": "stderr",
          "output_type": "stream",
          "text": [
            "100%|██████████| 3/3 [00:02<00:00,  1.01it/s]\n"
          ]
        },
        {
          "name": "stdout",
          "output_type": "stream",
          "text": [
            "Validation Accuracy: 0.6554 Loss: 1.0192695146995059  Best Loss: 1.0192695146995059\n"
          ]
        },
        {
          "name": "stderr",
          "output_type": "stream",
          "text": [
            "100%|██████████| 13/13 [00:18<00:00,  1.45s/it]\n"
          ]
        },
        {
          "name": "stdout",
          "output_type": "stream",
          "text": [
            "Epoch 3  Loss: 0.9030315583659265 Accuracy: 0.7342\n"
          ]
        },
        {
          "name": "stderr",
          "output_type": "stream",
          "text": [
            "100%|██████████| 3/3 [00:03<00:00,  1.01s/it]\n"
          ]
        },
        {
          "name": "stdout",
          "output_type": "stream",
          "text": [
            "Validation Accuracy: 0.6497 Loss: 1.2936187847547609  Best Loss: 1.0192695146995059\n"
          ]
        },
        {
          "name": "stderr",
          "output_type": "stream",
          "text": [
            "100%|██████████| 13/13 [00:18<00:00,  1.44s/it]\n"
          ]
        },
        {
          "name": "stdout",
          "output_type": "stream",
          "text": [
            "Epoch 4  Loss: 0.8405821287797939 Accuracy: 0.7464\n"
          ]
        },
        {
          "name": "stderr",
          "output_type": "stream",
          "text": [
            "100%|██████████| 3/3 [00:03<00:00,  1.10s/it]\n"
          ]
        },
        {
          "name": "stdout",
          "output_type": "stream",
          "text": [
            "Validation Accuracy: 0.6554 Loss: 1.2612990308821244  Best Loss: 1.0192695146995059\n"
          ]
        },
        {
          "name": "stderr",
          "output_type": "stream",
          "text": [
            "100%|██████████| 13/13 [00:18<00:00,  1.42s/it]\n"
          ]
        },
        {
          "name": "stdout",
          "output_type": "stream",
          "text": [
            "Epoch 5  Loss: 0.7096932523551629 Accuracy: 0.7937\n"
          ]
        },
        {
          "name": "stderr",
          "output_type": "stream",
          "text": [
            "100%|██████████| 3/3 [00:02<00:00,  1.03it/s]\n"
          ]
        },
        {
          "name": "stdout",
          "output_type": "stream",
          "text": [
            "Validation Accuracy: 0.6328 Loss: 1.1667380171594985  Best Loss: 1.0192695146995059\n"
          ]
        },
        {
          "name": "stderr",
          "output_type": "stream",
          "text": [
            "100%|██████████| 13/13 [00:17<00:00,  1.34s/it]\n"
          ]
        },
        {
          "name": "stdout",
          "output_type": "stream",
          "text": [
            "Epoch 6  Loss: 0.7279036764302611 Accuracy: 0.7816\n"
          ]
        },
        {
          "name": "stderr",
          "output_type": "stream",
          "text": [
            "100%|██████████| 3/3 [00:03<00:00,  1.21s/it]\n"
          ]
        },
        {
          "name": "stdout",
          "output_type": "stream",
          "text": [
            "Validation Accuracy: 0.7684 Loss: 0.8795919772187283  Best Loss: 0.8795919772187283\n"
          ]
        },
        {
          "name": "stderr",
          "output_type": "stream",
          "text": [
            "100%|██████████| 13/13 [00:17<00:00,  1.38s/it]\n"
          ]
        },
        {
          "name": "stdout",
          "output_type": "stream",
          "text": [
            "Epoch 7  Loss: 0.6370741071675503 Accuracy: 0.7973\n"
          ]
        },
        {
          "name": "stderr",
          "output_type": "stream",
          "text": [
            "100%|██████████| 3/3 [00:03<00:00,  1.02s/it]\n"
          ]
        },
        {
          "name": "stdout",
          "output_type": "stream",
          "text": [
            "Validation Accuracy: 0.7119 Loss: 1.0185544201533612  Best Loss: 0.8795919772187283\n"
          ]
        },
        {
          "name": "stderr",
          "output_type": "stream",
          "text": [
            "100%|██████████| 13/13 [00:17<00:00,  1.38s/it]\n"
          ]
        },
        {
          "name": "stdout",
          "output_type": "stream",
          "text": [
            "Epoch 8  Loss: 0.6011335358207428 Accuracy: 0.807\n"
          ]
        },
        {
          "name": "stderr",
          "output_type": "stream",
          "text": [
            "100%|██████████| 3/3 [00:03<00:00,  1.28s/it]\n"
          ]
        },
        {
          "name": "stdout",
          "output_type": "stream",
          "text": [
            "Validation Accuracy: 0.7006 Loss: 1.017145341584901  Best Loss: 0.8795919772187283\n"
          ]
        },
        {
          "name": "stderr",
          "output_type": "stream",
          "text": [
            "100%|██████████| 13/13 [00:17<00:00,  1.37s/it]\n"
          ]
        },
        {
          "name": "stdout",
          "output_type": "stream",
          "text": [
            "Epoch 9  Loss: 0.5276824894358578 Accuracy: 0.841\n"
          ]
        },
        {
          "name": "stderr",
          "output_type": "stream",
          "text": [
            "100%|██████████| 3/3 [00:02<00:00,  1.03it/s]\n"
          ]
        },
        {
          "name": "stdout",
          "output_type": "stream",
          "text": [
            "Validation Accuracy: 0.7401 Loss: 0.9642142359829808  Best Loss: 0.8795919772187283\n"
          ]
        },
        {
          "name": "stderr",
          "output_type": "stream",
          "text": [
            "100%|██████████| 13/13 [00:17<00:00,  1.37s/it]\n"
          ]
        },
        {
          "name": "stdout",
          "output_type": "stream",
          "text": [
            "Epoch 10  Loss: 0.5341516023815444 Accuracy: 0.8447\n"
          ]
        },
        {
          "name": "stderr",
          "output_type": "stream",
          "text": [
            "100%|██████████| 3/3 [00:03<00:00,  1.16s/it]\n"
          ]
        },
        {
          "name": "stdout",
          "output_type": "stream",
          "text": [
            "Validation Accuracy: 0.7119 Loss: 1.032547708599077  Best Loss: 0.8795919772187283\n"
          ]
        },
        {
          "name": "stderr",
          "output_type": "stream",
          "text": [
            "100%|██████████| 13/13 [00:17<00:00,  1.34s/it]\n"
          ]
        },
        {
          "name": "stdout",
          "output_type": "stream",
          "text": [
            "Epoch 11  Loss: 0.5322788637288485 Accuracy: 0.8422\n"
          ]
        },
        {
          "name": "stderr",
          "output_type": "stream",
          "text": [
            "100%|██████████| 3/3 [00:02<00:00,  1.03it/s]\n",
            "100%|██████████| 13/13 [00:18<00:00,  1.40s/it]\n"
          ]
        },
        {
          "name": "stdout",
          "output_type": "stream",
          "text": [
            "Epoch 12  Loss: 0.49411023205325477 Accuracy: 0.8434\n"
          ]
        },
        {
          "name": "stderr",
          "output_type": "stream",
          "text": [
            "100%|██████████| 3/3 [00:03<00:00,  1.06s/it]\n"
          ]
        },
        {
          "name": "stdout",
          "output_type": "stream",
          "text": [
            "Validation Accuracy: 0.7175 Loss: 1.0267687361059021  Best Loss: 0.8795919772187283\n"
          ]
        },
        {
          "name": "stderr",
          "output_type": "stream",
          "text": [
            "100%|██████████| 13/13 [00:17<00:00,  1.34s/it]\n"
          ]
        },
        {
          "name": "stdout",
          "output_type": "stream",
          "text": [
            "Epoch 13  Loss: 0.47520244758823893 Accuracy: 0.8544\n"
          ]
        },
        {
          "name": "stderr",
          "output_type": "stream",
          "text": [
            "100%|██████████| 3/3 [00:03<00:00,  1.01s/it]\n"
          ]
        },
        {
          "name": "stdout",
          "output_type": "stream",
          "text": [
            "Validation Accuracy: 0.7571 Loss: 0.9147181192161821  Best Loss: 0.8795919772187283\n"
          ]
        },
        {
          "name": "stderr",
          "output_type": "stream",
          "text": [
            "100%|██████████| 13/13 [00:18<00:00,  1.45s/it]\n"
          ]
        },
        {
          "name": "stdout",
          "output_type": "stream",
          "text": [
            "Epoch 14  Loss: 0.47968360924204434 Accuracy: 0.8532\n"
          ]
        },
        {
          "name": "stderr",
          "output_type": "stream",
          "text": [
            "100%|██████████| 3/3 [00:02<00:00,  1.03it/s]\n"
          ]
        },
        {
          "name": "stdout",
          "output_type": "stream",
          "text": [
            "Validation Accuracy: 0.7853 Loss: 0.8967285611194716  Best Loss: 0.8795919772187283\n"
          ]
        },
        {
          "name": "stderr",
          "output_type": "stream",
          "text": [
            "100%|██████████| 13/13 [00:20<00:00,  1.55s/it]\n"
          ]
        },
        {
          "name": "stdout",
          "output_type": "stream",
          "text": [
            "Epoch 15  Loss: 0.4652553661550053 Accuracy: 0.8617\n"
          ]
        },
        {
          "name": "stderr",
          "output_type": "stream",
          "text": [
            "100%|██████████| 3/3 [00:04<00:00,  1.51s/it]\n"
          ]
        },
        {
          "name": "stdout",
          "output_type": "stream",
          "text": [
            "Validation Accuracy: 0.7175 Loss: 0.9390237253604338  Best Loss: 0.8795919772187283\n"
          ]
        },
        {
          "name": "stderr",
          "output_type": "stream",
          "text": [
            "100%|██████████| 13/13 [00:23<00:00,  1.77s/it]\n"
          ]
        },
        {
          "name": "stdout",
          "output_type": "stream",
          "text": [
            "Epoch 16  Loss: 0.4746280256282524 Accuracy: 0.8507\n"
          ]
        },
        {
          "name": "stderr",
          "output_type": "stream",
          "text": [
            "100%|██████████| 3/3 [00:03<00:00,  1.29s/it]\n"
          ]
        },
        {
          "name": "stdout",
          "output_type": "stream",
          "text": [
            "Validation Accuracy: 0.7797 Loss: 0.8806272667614756  Best Loss: 0.8795919772187283\n"
          ]
        },
        {
          "name": "stderr",
          "output_type": "stream",
          "text": [
            "100%|██████████| 13/13 [00:19<00:00,  1.51s/it]\n"
          ]
        },
        {
          "name": "stdout",
          "output_type": "stream",
          "text": [
            "Epoch 17  Loss: 0.49425019196069603 Accuracy: 0.8495\n"
          ]
        },
        {
          "name": "stderr",
          "output_type": "stream",
          "text": [
            "100%|██████████| 3/3 [00:03<00:00,  1.30s/it]\n"
          ]
        },
        {
          "name": "stdout",
          "output_type": "stream",
          "text": [
            "Validation Accuracy: 0.7571 Loss: 0.90327331458359  Best Loss: 0.8795919772187283\n"
          ]
        },
        {
          "name": "stderr",
          "output_type": "stream",
          "text": [
            "100%|██████████| 13/13 [00:23<00:00,  1.84s/it]\n"
          ]
        },
        {
          "name": "stdout",
          "output_type": "stream",
          "text": [
            "Epoch 18  Loss: 0.43103163792119875 Accuracy: 0.8726\n"
          ]
        },
        {
          "name": "stderr",
          "output_type": "stream",
          "text": [
            "100%|██████████| 3/3 [00:03<00:00,  1.01s/it]\n"
          ]
        },
        {
          "name": "stdout",
          "output_type": "stream",
          "text": [
            "Validation Accuracy: 0.7458 Loss: 0.8979722167726707  Best Loss: 0.8795919772187283\n"
          ]
        },
        {
          "name": "stderr",
          "output_type": "stream",
          "text": [
            "100%|██████████| 13/13 [00:19<00:00,  1.50s/it]\n"
          ]
        },
        {
          "name": "stdout",
          "output_type": "stream",
          "text": [
            "Epoch 19  Loss: 0.4169103358671117 Accuracy: 0.8774\n"
          ]
        },
        {
          "name": "stderr",
          "output_type": "stream",
          "text": [
            "100%|██████████| 3/3 [00:03<00:00,  1.04s/it]\n"
          ]
        },
        {
          "name": "stdout",
          "output_type": "stream",
          "text": [
            "Validation Accuracy: 0.7514 Loss: 0.8077323712548478  Best Loss: 0.8077323712548478\n"
          ]
        },
        {
          "name": "stderr",
          "output_type": "stream",
          "text": [
            "100%|██████████| 13/13 [00:22<00:00,  1.72s/it]\n"
          ]
        },
        {
          "name": "stdout",
          "output_type": "stream",
          "text": [
            "Epoch 20  Loss: 0.41109964924423703 Accuracy: 0.8738\n"
          ]
        },
        {
          "name": "stderr",
          "output_type": "stream",
          "text": [
            "100%|██████████| 3/3 [00:03<00:00,  1.12s/it]\n"
          ]
        },
        {
          "name": "stdout",
          "output_type": "stream",
          "text": [
            "Validation Accuracy: 0.7853 Loss: 0.8060218361876047  Best Loss: 0.8060218361876047\n"
          ]
        },
        {
          "name": "stderr",
          "output_type": "stream",
          "text": [
            "100%|██████████| 13/13 [00:19<00:00,  1.52s/it]\n"
          ]
        },
        {
          "name": "stdout",
          "output_type": "stream",
          "text": [
            "Epoch 21  Loss: 0.38969848464230544 Accuracy: 0.8701\n"
          ]
        },
        {
          "name": "stderr",
          "output_type": "stream",
          "text": [
            "100%|██████████| 3/3 [00:04<00:00,  1.46s/it]\n"
          ]
        },
        {
          "name": "stdout",
          "output_type": "stream",
          "text": [
            "Validation Accuracy: 0.7288 Loss: 0.9533396194766807  Best Loss: 0.8060218361876047\n"
          ]
        },
        {
          "name": "stderr",
          "output_type": "stream",
          "text": [
            "100%|██████████| 13/13 [00:20<00:00,  1.58s/it]\n"
          ]
        },
        {
          "name": "stdout",
          "output_type": "stream",
          "text": [
            "Epoch 22  Loss: 0.32836903896020436 Accuracy: 0.9066\n"
          ]
        },
        {
          "name": "stderr",
          "output_type": "stream",
          "text": [
            "100%|██████████| 3/3 [00:03<00:00,  1.18s/it]\n"
          ]
        },
        {
          "name": "stdout",
          "output_type": "stream",
          "text": [
            "Validation Accuracy: 0.7571 Loss: 0.9005099023811606  Best Loss: 0.8060218361876047\n"
          ]
        },
        {
          "name": "stderr",
          "output_type": "stream",
          "text": [
            "100%|██████████| 13/13 [00:21<00:00,  1.63s/it]\n"
          ]
        },
        {
          "name": "stdout",
          "output_type": "stream",
          "text": [
            "Epoch 23  Loss: 0.4222211174538894 Accuracy: 0.8714\n"
          ]
        },
        {
          "name": "stderr",
          "output_type": "stream",
          "text": [
            "100%|██████████| 3/3 [00:03<00:00,  1.17s/it]\n"
          ]
        },
        {
          "name": "stdout",
          "output_type": "stream",
          "text": [
            "Validation Accuracy: 0.8192 Loss: 0.753612444695524  Best Loss: 0.753612444695524\n"
          ]
        },
        {
          "name": "stderr",
          "output_type": "stream",
          "text": [
            "100%|██████████| 13/13 [00:18<00:00,  1.43s/it]\n"
          ]
        },
        {
          "name": "stdout",
          "output_type": "stream",
          "text": [
            "Epoch 24  Loss: 0.3717167570272269 Accuracy: 0.875\n"
          ]
        },
        {
          "name": "stderr",
          "output_type": "stream",
          "text": [
            "100%|██████████| 3/3 [00:03<00:00,  1.22s/it]\n"
          ]
        },
        {
          "name": "stdout",
          "output_type": "stream",
          "text": [
            "Validation Accuracy: 0.7345 Loss: 0.9479070711788719  Best Loss: 0.753612444695524\n"
          ]
        },
        {
          "name": "stderr",
          "output_type": "stream",
          "text": [
            "100%|██████████| 13/13 [00:17<00:00,  1.35s/it]\n"
          ]
        },
        {
          "name": "stdout",
          "output_type": "stream",
          "text": [
            "Epoch 25  Loss: 0.3325471664128047 Accuracy: 0.8944\n"
          ]
        },
        {
          "name": "stderr",
          "output_type": "stream",
          "text": [
            "100%|██████████| 3/3 [00:02<00:00,  1.02it/s]\n"
          ]
        },
        {
          "name": "stdout",
          "output_type": "stream",
          "text": [
            "Validation Accuracy: 0.7571 Loss: 0.8477166640362079  Best Loss: 0.753612444695524\n"
          ]
        },
        {
          "name": "stderr",
          "output_type": "stream",
          "text": [
            "100%|██████████| 13/13 [00:20<00:00,  1.54s/it]\n"
          ]
        },
        {
          "name": "stdout",
          "output_type": "stream",
          "text": [
            "Epoch 26  Loss: 0.4026397388039664 Accuracy: 0.8786\n"
          ]
        },
        {
          "name": "stderr",
          "output_type": "stream",
          "text": [
            "100%|██████████| 3/3 [00:03<00:00,  1.00s/it]\n"
          ]
        },
        {
          "name": "stdout",
          "output_type": "stream",
          "text": [
            "Validation Accuracy: 0.7232 Loss: 1.1126196593311732  Best Loss: 0.753612444695524\n"
          ]
        },
        {
          "name": "stderr",
          "output_type": "stream",
          "text": [
            "100%|██████████| 13/13 [00:18<00:00,  1.41s/it]\n"
          ]
        },
        {
          "name": "stdout",
          "output_type": "stream",
          "text": [
            "Epoch 27  Loss: 0.3794436256090877 Accuracy: 0.8799\n"
          ]
        },
        {
          "name": "stderr",
          "output_type": "stream",
          "text": [
            "100%|██████████| 3/3 [00:03<00:00,  1.13s/it]\n"
          ]
        },
        {
          "name": "stdout",
          "output_type": "stream",
          "text": [
            "Validation Accuracy: 0.7797 Loss: 0.8852629441145199  Best Loss: 0.753612444695524\n"
          ]
        },
        {
          "name": "stderr",
          "output_type": "stream",
          "text": [
            "100%|██████████| 13/13 [00:18<00:00,  1.39s/it]\n"
          ]
        },
        {
          "name": "stdout",
          "output_type": "stream",
          "text": [
            "Epoch 28  Loss: 0.40085861519815796 Accuracy: 0.8908\n"
          ]
        },
        {
          "name": "stderr",
          "output_type": "stream",
          "text": [
            "100%|██████████| 3/3 [00:02<00:00,  1.01it/s]\n",
            "100%|██████████| 13/13 [00:18<00:00,  1.40s/it]\n"
          ]
        },
        {
          "name": "stdout",
          "output_type": "stream",
          "text": [
            "Epoch 29  Loss: 0.3893559895411638 Accuracy: 0.8786\n"
          ]
        },
        {
          "name": "stderr",
          "output_type": "stream",
          "text": [
            "100%|██████████| 3/3 [00:03<00:00,  1.31s/it]\n"
          ]
        },
        {
          "name": "stdout",
          "output_type": "stream",
          "text": [
            "Validation Accuracy: 0.7401 Loss: 0.9423827329157447  Best Loss: 0.753612444695524\n"
          ]
        },
        {
          "name": "stderr",
          "output_type": "stream",
          "text": [
            "100%|██████████| 13/13 [00:17<00:00,  1.38s/it]\n"
          ]
        },
        {
          "name": "stdout",
          "output_type": "stream",
          "text": [
            "Epoch 30  Loss: 0.34925358371402176 Accuracy: 0.9005\n"
          ]
        },
        {
          "name": "stderr",
          "output_type": "stream",
          "text": [
            "100%|██████████| 3/3 [00:03<00:00,  1.02s/it]\n"
          ]
        },
        {
          "name": "stdout",
          "output_type": "stream",
          "text": [
            "Validation Accuracy: 0.7853 Loss: 0.938259357931547  Best Loss: 0.753612444695524\n"
          ]
        },
        {
          "name": "stderr",
          "output_type": "stream",
          "text": [
            "100%|██████████| 13/13 [00:18<00:00,  1.45s/it]\n"
          ]
        },
        {
          "name": "stdout",
          "output_type": "stream",
          "text": [
            "Epoch 31  Loss: 0.3262560791120053 Accuracy: 0.9017\n"
          ]
        },
        {
          "name": "stderr",
          "output_type": "stream",
          "text": [
            "100%|██████████| 3/3 [00:03<00:00,  1.11s/it]\n"
          ]
        },
        {
          "name": "stdout",
          "output_type": "stream",
          "text": [
            "Validation Accuracy: 0.7571 Loss: 1.0073430635107814  Best Loss: 0.753612444695524\n"
          ]
        },
        {
          "name": "stderr",
          "output_type": "stream",
          "text": [
            "100%|██████████| 13/13 [00:17<00:00,  1.36s/it]\n"
          ]
        },
        {
          "name": "stdout",
          "output_type": "stream",
          "text": [
            "Epoch 32  Loss: 0.3186412734361126 Accuracy: 0.8944\n"
          ]
        },
        {
          "name": "stderr",
          "output_type": "stream",
          "text": [
            "100%|██████████| 3/3 [00:02<00:00,  1.01it/s]\n"
          ]
        },
        {
          "name": "stdout",
          "output_type": "stream",
          "text": [
            "Validation Accuracy: 0.7119 Loss: 1.2189121499465747  Best Loss: 0.753612444695524\n"
          ]
        },
        {
          "name": "stderr",
          "output_type": "stream",
          "text": [
            "100%|██████████| 13/13 [00:18<00:00,  1.44s/it]\n"
          ]
        },
        {
          "name": "stdout",
          "output_type": "stream",
          "text": [
            "Epoch 33  Loss: 0.32799600218210945 Accuracy: 0.9053\n"
          ]
        },
        {
          "name": "stderr",
          "output_type": "stream",
          "text": [
            "100%|██████████| 3/3 [00:03<00:00,  1.01s/it]\n"
          ]
        },
        {
          "name": "stdout",
          "output_type": "stream",
          "text": [
            "Validation Accuracy: 0.7571 Loss: 0.978527852702236  Best Loss: 0.753612444695524\n"
          ]
        },
        {
          "name": "stderr",
          "output_type": "stream",
          "text": [
            "100%|██████████| 13/13 [00:17<00:00,  1.35s/it]\n"
          ]
        },
        {
          "name": "stdout",
          "output_type": "stream",
          "text": [
            "Epoch 34  Loss: 0.25815926701436737 Accuracy: 0.9102\n"
          ]
        },
        {
          "name": "stderr",
          "output_type": "stream",
          "text": [
            "100%|██████████| 3/3 [00:03<00:00,  1.05s/it]\n"
          ]
        },
        {
          "name": "stdout",
          "output_type": "stream",
          "text": [
            "Validation Accuracy: 0.7401 Loss: 0.8960083670561616  Best Loss: 0.753612444695524\n"
          ]
        },
        {
          "name": "stderr",
          "output_type": "stream",
          "text": [
            "100%|██████████| 13/13 [00:18<00:00,  1.42s/it]\n"
          ]
        },
        {
          "name": "stdout",
          "output_type": "stream",
          "text": [
            "Epoch 35  Loss: 0.333010495678735 Accuracy: 0.8908\n"
          ]
        },
        {
          "name": "stderr",
          "output_type": "stream",
          "text": [
            "100%|██████████| 3/3 [00:02<00:00,  1.01it/s]\n"
          ]
        },
        {
          "name": "stdout",
          "output_type": "stream",
          "text": [
            "Validation Accuracy: 0.7458 Loss: 0.9040039506720557  Best Loss: 0.753612444695524\n"
          ]
        },
        {
          "name": "stderr",
          "output_type": "stream",
          "text": [
            "100%|██████████| 13/13 [00:17<00:00,  1.36s/it]\n"
          ]
        },
        {
          "name": "stdout",
          "output_type": "stream",
          "text": [
            "Epoch 36  Loss: 0.3684444173551777 Accuracy: 0.8847\n"
          ]
        },
        {
          "name": "stderr",
          "output_type": "stream",
          "text": [
            "100%|██████████| 3/3 [00:03<00:00,  1.21s/it]\n"
          ]
        },
        {
          "name": "stdout",
          "output_type": "stream",
          "text": [
            "Validation Accuracy: 0.774 Loss: 0.8454416880759533  Best Loss: 0.753612444695524\n"
          ]
        },
        {
          "name": "stderr",
          "output_type": "stream",
          "text": [
            "100%|██████████| 13/13 [00:18<00:00,  1.40s/it]\n"
          ]
        },
        {
          "name": "stdout",
          "output_type": "stream",
          "text": [
            "Epoch 37  Loss: 0.37455579490707847 Accuracy: 0.8968\n"
          ]
        },
        {
          "name": "stderr",
          "output_type": "stream",
          "text": [
            "100%|██████████| 3/3 [00:03<00:00,  1.01s/it]\n"
          ]
        },
        {
          "name": "stdout",
          "output_type": "stream",
          "text": [
            "Validation Accuracy: 0.774 Loss: 0.9524552299130663  Best Loss: 0.753612444695524\n"
          ]
        },
        {
          "name": "stderr",
          "output_type": "stream",
          "text": [
            "100%|██████████| 13/13 [00:17<00:00,  1.34s/it]\n"
          ]
        },
        {
          "name": "stdout",
          "output_type": "stream",
          "text": [
            "Epoch 38  Loss: 0.3636927245261648 Accuracy: 0.8908\n"
          ]
        },
        {
          "name": "stderr",
          "output_type": "stream",
          "text": [
            "100%|██████████| 3/3 [00:03<00:00,  1.31s/it]\n"
          ]
        },
        {
          "name": "stdout",
          "output_type": "stream",
          "text": [
            "Validation Accuracy: 0.7571 Loss: 0.8708524254649223  Best Loss: 0.753612444695524\n"
          ]
        },
        {
          "name": "stderr",
          "output_type": "stream",
          "text": [
            "100%|██████████| 13/13 [00:17<00:00,  1.36s/it]\n"
          ]
        },
        {
          "name": "stdout",
          "output_type": "stream",
          "text": [
            "Epoch 39  Loss: 0.38800123303771267 Accuracy: 0.8823\n"
          ]
        },
        {
          "name": "stderr",
          "output_type": "stream",
          "text": [
            "100%|██████████| 3/3 [00:02<00:00,  1.03it/s]\n"
          ]
        },
        {
          "name": "stdout",
          "output_type": "stream",
          "text": [
            "Validation Accuracy: 0.7514 Loss: 0.9082032994254824  Best Loss: 0.753612444695524\n"
          ]
        },
        {
          "name": "stderr",
          "output_type": "stream",
          "text": [
            "100%|██████████| 13/13 [00:17<00:00,  1.38s/it]\n"
          ]
        },
        {
          "name": "stdout",
          "output_type": "stream",
          "text": [
            "Epoch 40  Loss: 0.3284645221184378 Accuracy: 0.8968\n"
          ]
        },
        {
          "name": "stderr",
          "output_type": "stream",
          "text": [
            "100%|██████████| 3/3 [00:03<00:00,  1.15s/it]\n"
          ]
        },
        {
          "name": "stdout",
          "output_type": "stream",
          "text": [
            "Validation Accuracy: 0.7627 Loss: 1.109701981022349  Best Loss: 0.753612444695524\n"
          ]
        },
        {
          "name": "stderr",
          "output_type": "stream",
          "text": [
            "100%|██████████| 13/13 [00:17<00:00,  1.35s/it]\n"
          ]
        },
        {
          "name": "stdout",
          "output_type": "stream",
          "text": [
            "Epoch 41  Loss: 0.303228637121564 Accuracy: 0.8956\n"
          ]
        },
        {
          "name": "stderr",
          "output_type": "stream",
          "text": [
            "100%|██████████| 3/3 [00:03<00:00,  1.01s/it]\n"
          ]
        },
        {
          "name": "stdout",
          "output_type": "stream",
          "text": [
            "Validation Accuracy: 0.7797 Loss: 0.8510332015394617  Best Loss: 0.753612444695524\n"
          ]
        },
        {
          "name": "stderr",
          "output_type": "stream",
          "text": [
            "100%|██████████| 13/13 [00:18<00:00,  1.40s/it]\n"
          ]
        },
        {
          "name": "stdout",
          "output_type": "stream",
          "text": [
            "Epoch 42  Loss: 0.3327198840498125 Accuracy: 0.8896\n"
          ]
        },
        {
          "name": "stderr",
          "output_type": "stream",
          "text": [
            "100%|██████████| 3/3 [00:03<00:00,  1.07s/it]\n"
          ]
        },
        {
          "name": "stdout",
          "output_type": "stream",
          "text": [
            "Validation Accuracy: 0.7853 Loss: 0.7575511763850433  Best Loss: 0.753612444695524\n"
          ]
        },
        {
          "name": "stderr",
          "output_type": "stream",
          "text": [
            "100%|██████████| 13/13 [00:17<00:00,  1.35s/it]\n"
          ]
        },
        {
          "name": "stdout",
          "output_type": "stream",
          "text": [
            "Epoch 43  Loss: 0.3316986585461406 Accuracy: 0.8993\n"
          ]
        },
        {
          "name": "stderr",
          "output_type": "stream",
          "text": [
            "100%|██████████| 3/3 [00:03<00:00,  1.00s/it]\n"
          ]
        },
        {
          "name": "stdout",
          "output_type": "stream",
          "text": [
            "Validation Accuracy: 0.7458 Loss: 0.8774296329370911  Best Loss: 0.753612444695524\n"
          ]
        },
        {
          "name": "stderr",
          "output_type": "stream",
          "text": [
            "100%|██████████| 13/13 [00:18<00:00,  1.43s/it]\n"
          ]
        },
        {
          "name": "stdout",
          "output_type": "stream",
          "text": [
            "Epoch 44  Loss: 0.3095807756038994 Accuracy: 0.9066\n"
          ]
        },
        {
          "name": "stderr",
          "output_type": "stream",
          "text": [
            "100%|██████████| 3/3 [00:02<00:00,  1.03it/s]\n"
          ]
        },
        {
          "name": "stdout",
          "output_type": "stream",
          "text": [
            "Validation Accuracy: 0.7684 Loss: 0.9158922671063324  Best Loss: 0.753612444695524\n"
          ]
        },
        {
          "name": "stderr",
          "output_type": "stream",
          "text": [
            "100%|██████████| 13/13 [00:17<00:00,  1.34s/it]\n"
          ]
        },
        {
          "name": "stdout",
          "output_type": "stream",
          "text": [
            "Epoch 45  Loss: 0.27151489895732317 Accuracy: 0.909\n"
          ]
        },
        {
          "name": "stderr",
          "output_type": "stream",
          "text": [
            "100%|██████████| 3/3 [00:03<00:00,  1.04s/it]\n"
          ]
        },
        {
          "name": "stdout",
          "output_type": "stream",
          "text": [
            "Validation Accuracy: 0.7401 Loss: 0.913434622380421  Best Loss: 0.753612444695524\n"
          ]
        },
        {
          "name": "stderr",
          "output_type": "stream",
          "text": [
            "100%|██████████| 13/13 [00:18<00:00,  1.41s/it]\n"
          ]
        },
        {
          "name": "stdout",
          "output_type": "stream",
          "text": [
            "Epoch 46  Loss: 0.3186737430479812 Accuracy: 0.9066\n"
          ]
        },
        {
          "name": "stderr",
          "output_type": "stream",
          "text": [
            "100%|██████████| 3/3 [00:02<00:00,  1.00it/s]\n"
          ]
        },
        {
          "name": "stdout",
          "output_type": "stream",
          "text": [
            "Validation Accuracy: 0.7232 Loss: 1.040615454657665  Best Loss: 0.753612444695524\n"
          ]
        },
        {
          "name": "stderr",
          "output_type": "stream",
          "text": [
            "100%|██████████| 13/13 [00:17<00:00,  1.35s/it]\n"
          ]
        },
        {
          "name": "stdout",
          "output_type": "stream",
          "text": [
            "Epoch 47  Loss: 0.30798116612323756 Accuracy: 0.9066\n"
          ]
        },
        {
          "name": "stderr",
          "output_type": "stream",
          "text": [
            "100%|██████████| 3/3 [00:03<00:00,  1.21s/it]\n"
          ]
        },
        {
          "name": "stdout",
          "output_type": "stream",
          "text": [
            "Validation Accuracy: 0.7684 Loss: 0.8726488245362819  Best Loss: 0.753612444695524\n"
          ]
        },
        {
          "name": "stderr",
          "output_type": "stream",
          "text": [
            "100%|██████████| 13/13 [00:17<00:00,  1.38s/it]\n"
          ]
        },
        {
          "name": "stdout",
          "output_type": "stream",
          "text": [
            "Epoch 48  Loss: 0.3066682473404493 Accuracy: 0.9041\n"
          ]
        },
        {
          "name": "stderr",
          "output_type": "stream",
          "text": [
            "100%|██████████| 3/3 [00:03<00:00,  1.00s/it]\n"
          ]
        },
        {
          "name": "stdout",
          "output_type": "stream",
          "text": [
            "Validation Accuracy: 0.7401 Loss: 0.9907847650986684  Best Loss: 0.753612444695524\n"
          ]
        },
        {
          "name": "stderr",
          "output_type": "stream",
          "text": [
            "100%|██████████| 13/13 [00:17<00:00,  1.36s/it]\n"
          ]
        },
        {
          "name": "stdout",
          "output_type": "stream",
          "text": [
            "Epoch 49  Loss: 0.3016015726457475 Accuracy: 0.9078\n"
          ]
        },
        {
          "name": "stderr",
          "output_type": "stream",
          "text": [
            "100%|██████████| 3/3 [00:03<00:00,  1.29s/it]\n"
          ]
        },
        {
          "name": "stdout",
          "output_type": "stream",
          "text": [
            "Validation Accuracy: 0.7119 Loss: 1.0804839516156406  Best Loss: 0.753612444695524\n"
          ]
        },
        {
          "name": "stderr",
          "output_type": "stream",
          "text": [
            "100%|██████████| 13/13 [00:17<00:00,  1.34s/it]\n"
          ]
        },
        {
          "name": "stdout",
          "output_type": "stream",
          "text": [
            "Epoch 50  Loss: 0.26063846800554646 Accuracy: 0.9211\n"
          ]
        },
        {
          "name": "stderr",
          "output_type": "stream",
          "text": [
            "100%|██████████| 3/3 [00:03<00:00,  1.00s/it]"
          ]
        },
        {
          "name": "stdout",
          "output_type": "stream",
          "text": [
            "Validation Accuracy: 0.7571 Loss: 0.9073804938604039  Best Loss: 0.753612444695524\n"
          ]
        },
        {
          "name": "stderr",
          "output_type": "stream",
          "text": [
            "\n"
          ]
        }
      ],
      "source": [
        "efficientnet = EfficientNetModel(num_classes=20)\n",
        "criterion = nn.CrossEntropyLoss()\n",
        "optimizer = Adam(efficientnet.parameters(), lr=LR)\n",
        "device = torch.device(\"cuda\" if torch.cuda.is_available() else \"cpu\")\n",
        "efn_train_losses, efn_val_losses, efn_train_acc, efn_val_acc = train(\n",
        "    model=efficientnet,\n",
        "    epochs=EPOCH,\n",
        "    device=device,\n",
        "    train_dataloader=train_loader,\n",
        "    valid_dataloader=valid_loader,\n",
        "    criterion=criterion,\n",
        "    optimizer=optimizer,\n",
        "    model_name='efficientnet',\n",
        ")"
      ]
    },
    {
      "cell_type": "code",
      "execution_count": 46,
      "metadata": {
        "colab": {
          "base_uri": "https://localhost:8080/",
          "height": 449
        },
        "id": "jDAaE7qnMbY_",
        "outputId": "819ce49f-d2ae-4c85-a015-c58ea50b1168"
      },
      "outputs": [
        {
          "data": {
            "image/png": "[encoded data removed]",
            "text/plain": [
              "<Figure size 640x480 with 1 Axes>"
            ]
          },
          "metadata": {},
          "output_type": "display_data"
        }
      ],
      "source": [
        "plot_error(efn_train_losses, efn_val_losses)"
      ]
    },
    {
      "cell_type": "code",
      "execution_count": 47,
      "metadata": {
        "colab": {
          "base_uri": "https://localhost:8080/",
          "height": 449
        },
        "id": "G-dsl0bKMb8J",
        "outputId": "1774b460-3dfa-4855-b89b-f1d96b03008e"
      },
      "outputs": [
        {
          "data": {
            "image/png": "[encoded data removed]",
            "text/plain": [
              "<Figure size 640x480 with 1 Axes>"
            ]
          },
          "metadata": {},
          "output_type": "display_data"
        }
      ],
      "source": [
        "plot_acc(efn_train_acc, efn_val_acc)"
      ]
    },
    {
      "cell_type": "code",
      "execution_count": 65,
      "metadata": {
        "colab": {
          "base_uri": "https://localhost:8080/"
        },
        "id": "lGwZ_IPAMiGH",
        "outputId": "a80ecf0d-3c21-4e86-82c5-2ccd994088f8"
      },
      "outputs": [
        {
          "name": "stdout",
          "output_type": "stream",
          "text": [
            "Test: Precision: 0.735  Recall: 0.7391  F1-Score: 0.7311\n"
          ]
        }
      ],
      "source": [
        "precision, recall, f1 = test(efficientnet, 'best_efficientnet.pth', test_loader, device)\n",
        "print(f\"Test: Precision: {np.round(precision, 4)}  Recall: {np.round(recall, 4)}  F1-Score: {np.round(f1, 4)}\")"
      ]
    },
    {
      "cell_type": "code",
      "execution_count": 66,
      "metadata": {
        "colab": {
          "base_uri": "https://localhost:8080/"
        },
        "id": "mEfuNJ-Bj00D",
        "outputId": "ff8e91c8-6462-4cab-f51d-5905549ffcfc"
      },
      "outputs": [
        {
          "name": "stdout",
          "output_type": "stream",
          "text": [
            "Training: Precision: 0.9427  Recall: 0.9392  F1-Score: 0.9404\n"
          ]
        }
      ],
      "source": [
        "precision, recall, f1 = test(efficientnet, 'best_efficientnet.pth', train_loader, device)\n",
        "print(f\"Training: Precision: {np.round(precision, 4)}  Recall: {np.round(recall, 4)}  F1-Score: {np.round(f1, 4)}\")"
      ]
    }
  ],
  "metadata": {
    "accelerator": "GPU",
    "colab": {
      "gpuType": "T4",
      "provenance": []
    },
    "kernelspec": {
      "display_name": "Python 3",
      "name": "python3"
    },
    "language_info": {
      "codemirror_mode": {
        "name": "ipython",
        "version": 3
      },
      "file_extension": ".py",
      "mimetype": "text/x-python",
      "name": "python",
      "nbconvert_exporter": "python",
      "pygments_lexer": "ipython3",
      "version": "3.11.4"
    }
  },
  "nbformat": 4,
  "nbformat_minor": 0
}
